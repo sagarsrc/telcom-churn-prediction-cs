{
 "cells": [
  {
   "cell_type": "markdown",
   "id": "278db59e-9231-4fd7-815c-e2a035ad15b2",
   "metadata": {},
   "source": [
    "# Why Predict the churn?\n",
    "\n",
    "1. Retention of customers is important because of 2 factors\n",
    "    1. Growth perspective    \n",
    "        1. Are you able to onboard new users and able to retain them?\n",
    "        2. Is your product able to strike an interest/value with users\n",
    "        3. Important indicator of mapping between product and market need\n",
    "\n",
    "    1. Value perspective\n",
    "        1. Marketting is a costly procedure\n",
    "        2. Acquiring a new user is costlier than retaining an old user\n",
    "        3. Business point of view it makes more sense to retain these older users\n",
    "\n",
    "4. If you know which customer is going to leave the platform you can use this knowledge to create attractive offers or discounts to retain them\n",
    "5. This will make the customer feel that company cares about their interest.\n",
    "6. Which inturn will be a value add."
   ]
  }
 ],
 "metadata": {
  "kernelspec": {
   "display_name": "Python 3",
   "language": "python",
   "name": "python3"
  },
  "language_info": {
   "codemirror_mode": {
    "name": "ipython",
    "version": 3
   },
   "file_extension": ".py",
   "mimetype": "text/x-python",
   "name": "python",
   "nbconvert_exporter": "python",
   "pygments_lexer": "ipython3",
   "version": "3.8.5"
  }
 },
 "nbformat": 4,
 "nbformat_minor": 5
}
