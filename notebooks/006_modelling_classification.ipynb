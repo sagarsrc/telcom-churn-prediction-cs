{
 "cells": [
  {
   "cell_type": "code",
   "execution_count": 1,
   "id": "e751e52d-652d-467c-96ab-dc751f0ad789",
   "metadata": {},
   "outputs": [],
   "source": [
    "import json\n",
    "import os\n",
    "import random\n",
    "from datetime import datetime, timedelta\n",
    "\n",
    "import matplotlib.pyplot as plt\n",
    "import numpy as np\n",
    "import pandas as pd\n",
    "import seaborn as sns\n",
    "from sklearn.ensemble import RandomForestClassifier\n",
    "from sklearn.metrics import confusion_matrix, log_loss\n",
    "from sklearn.model_selection import train_test_split\n",
    "from sklearn.preprocessing import LabelBinarizer\n",
    "from sklearn.utils.class_weight import compute_class_weight\n",
    "\n",
    "pd.options.mode.chained_assignment = None"
   ]
  },
  {
   "cell_type": "code",
   "execution_count": 7,
   "id": "4bcf5ac5-b8da-41fa-b52f-4e6df984924b",
   "metadata": {},
   "outputs": [],
   "source": [
    "x_train = pd.read_parquet(\"../data/selected_features/x_train/data.parquet\")\n",
    "x_cv = pd.read_parquet(\"../data/selected_features/x_cv/data.parquet\")\n",
    "x_test = pd.read_parquet(\"../data/selected_features/x_test/data.parquet\")"
   ]
  },
  {
   "cell_type": "code",
   "execution_count": 8,
   "id": "4f71030f-22d9-483d-a469-a6fba00e9aa9",
   "metadata": {},
   "outputs": [],
   "source": [
    "y_train = pd.read_parquet(\"../data/selected_features/y_train/data.parquet\")[\"Churn\"]\n",
    "y_cv = pd.read_parquet(\"../data/selected_features/y_cv/data.parquet\")[\"Churn\"]\n",
    "y_test = pd.read_parquet(\"../data/selected_features/y_test/data.parquet\")[\"Churn\"]"
   ]
  }
 ],
 "metadata": {
  "kernelspec": {
   "display_name": "Python 3",
   "language": "python",
   "name": "python3"
  },
  "language_info": {
   "codemirror_mode": {
    "name": "ipython",
    "version": 3
   },
   "file_extension": ".py",
   "mimetype": "text/x-python",
   "name": "python",
   "nbconvert_exporter": "python",
   "pygments_lexer": "ipython3",
   "version": "3.8.5"
  }
 },
 "nbformat": 4,
 "nbformat_minor": 5
}
