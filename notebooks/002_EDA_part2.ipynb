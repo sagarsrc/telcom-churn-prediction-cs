{
 "cells": [
  {
   "cell_type": "markdown",
   "id": "3622d25f-3e3c-4084-9307-84032b11b6c1",
   "metadata": {},
   "source": [
    "# Aim\n",
    "\n",
    "1. This notebook is aimed towards doing bi-variate and multivariate analysis\n",
    "1. as number of combinations for bi-variate analysis are high selecting a few variables to do bi-variate analysis on"
   ]
  },
  {
   "cell_type": "code",
   "execution_count": 19,
   "id": "35fe3603-b6bc-412d-8016-6427483718d5",
   "metadata": {},
   "outputs": [],
   "source": [
    "import os\n",
    "\n",
    "import matplotlib.pyplot as plt\n",
    "import numpy as np\n",
    "import pandas as pd\n",
    "import seaborn as sns\n",
    "\n",
    "pd.options.mode.chained_assignment = None"
   ]
  },
  {
   "cell_type": "code",
   "execution_count": 3,
   "id": "dd5e6950-bcd4-4620-9548-d43a500bd9ee",
   "metadata": {},
   "outputs": [
    {
     "data": {
      "text/html": [
       "<div>\n",
       "<style scoped>\n",
       "    .dataframe tbody tr th:only-of-type {\n",
       "        vertical-align: middle;\n",
       "    }\n",
       "\n",
       "    .dataframe tbody tr th {\n",
       "        vertical-align: top;\n",
       "    }\n",
       "\n",
       "    .dataframe thead th {\n",
       "        text-align: right;\n",
       "    }\n",
       "</style>\n",
       "<table border=\"1\" class=\"dataframe\">\n",
       "  <thead>\n",
       "    <tr style=\"text-align: right;\">\n",
       "      <th></th>\n",
       "      <th>customerID</th>\n",
       "      <th>gender</th>\n",
       "      <th>SeniorCitizen</th>\n",
       "      <th>Partner</th>\n",
       "      <th>Dependents</th>\n",
       "      <th>tenure</th>\n",
       "      <th>PhoneService</th>\n",
       "      <th>MultipleLines</th>\n",
       "      <th>InternetService</th>\n",
       "      <th>OnlineSecurity</th>\n",
       "      <th>...</th>\n",
       "      <th>DeviceProtection</th>\n",
       "      <th>TechSupport</th>\n",
       "      <th>StreamingTV</th>\n",
       "      <th>StreamingMovies</th>\n",
       "      <th>Contract</th>\n",
       "      <th>PaperlessBilling</th>\n",
       "      <th>PaymentMethod</th>\n",
       "      <th>MonthlyCharges</th>\n",
       "      <th>TotalCharges</th>\n",
       "      <th>Churn</th>\n",
       "    </tr>\n",
       "  </thead>\n",
       "  <tbody>\n",
       "    <tr>\n",
       "      <th>0</th>\n",
       "      <td>7590-VHVEG</td>\n",
       "      <td>Female</td>\n",
       "      <td>0</td>\n",
       "      <td>Yes</td>\n",
       "      <td>No</td>\n",
       "      <td>1</td>\n",
       "      <td>No</td>\n",
       "      <td>No phone service</td>\n",
       "      <td>DSL</td>\n",
       "      <td>No</td>\n",
       "      <td>...</td>\n",
       "      <td>No</td>\n",
       "      <td>No</td>\n",
       "      <td>No</td>\n",
       "      <td>No</td>\n",
       "      <td>Month-to-month</td>\n",
       "      <td>Yes</td>\n",
       "      <td>Electronic check</td>\n",
       "      <td>29.85</td>\n",
       "      <td>29.85</td>\n",
       "      <td>No</td>\n",
       "    </tr>\n",
       "    <tr>\n",
       "      <th>1</th>\n",
       "      <td>5575-GNVDE</td>\n",
       "      <td>Male</td>\n",
       "      <td>0</td>\n",
       "      <td>No</td>\n",
       "      <td>No</td>\n",
       "      <td>34</td>\n",
       "      <td>Yes</td>\n",
       "      <td>No</td>\n",
       "      <td>DSL</td>\n",
       "      <td>Yes</td>\n",
       "      <td>...</td>\n",
       "      <td>Yes</td>\n",
       "      <td>No</td>\n",
       "      <td>No</td>\n",
       "      <td>No</td>\n",
       "      <td>One year</td>\n",
       "      <td>No</td>\n",
       "      <td>Mailed check</td>\n",
       "      <td>56.95</td>\n",
       "      <td>1889.50</td>\n",
       "      <td>No</td>\n",
       "    </tr>\n",
       "    <tr>\n",
       "      <th>2</th>\n",
       "      <td>3668-QPYBK</td>\n",
       "      <td>Male</td>\n",
       "      <td>0</td>\n",
       "      <td>No</td>\n",
       "      <td>No</td>\n",
       "      <td>2</td>\n",
       "      <td>Yes</td>\n",
       "      <td>No</td>\n",
       "      <td>DSL</td>\n",
       "      <td>Yes</td>\n",
       "      <td>...</td>\n",
       "      <td>No</td>\n",
       "      <td>No</td>\n",
       "      <td>No</td>\n",
       "      <td>No</td>\n",
       "      <td>Month-to-month</td>\n",
       "      <td>Yes</td>\n",
       "      <td>Mailed check</td>\n",
       "      <td>53.85</td>\n",
       "      <td>108.15</td>\n",
       "      <td>Yes</td>\n",
       "    </tr>\n",
       "    <tr>\n",
       "      <th>3</th>\n",
       "      <td>7795-CFOCW</td>\n",
       "      <td>Male</td>\n",
       "      <td>0</td>\n",
       "      <td>No</td>\n",
       "      <td>No</td>\n",
       "      <td>45</td>\n",
       "      <td>No</td>\n",
       "      <td>No phone service</td>\n",
       "      <td>DSL</td>\n",
       "      <td>Yes</td>\n",
       "      <td>...</td>\n",
       "      <td>Yes</td>\n",
       "      <td>Yes</td>\n",
       "      <td>No</td>\n",
       "      <td>No</td>\n",
       "      <td>One year</td>\n",
       "      <td>No</td>\n",
       "      <td>Bank transfer (automatic)</td>\n",
       "      <td>42.30</td>\n",
       "      <td>1840.75</td>\n",
       "      <td>No</td>\n",
       "    </tr>\n",
       "    <tr>\n",
       "      <th>4</th>\n",
       "      <td>9237-HQITU</td>\n",
       "      <td>Female</td>\n",
       "      <td>0</td>\n",
       "      <td>No</td>\n",
       "      <td>No</td>\n",
       "      <td>2</td>\n",
       "      <td>Yes</td>\n",
       "      <td>No</td>\n",
       "      <td>Fiber optic</td>\n",
       "      <td>No</td>\n",
       "      <td>...</td>\n",
       "      <td>No</td>\n",
       "      <td>No</td>\n",
       "      <td>No</td>\n",
       "      <td>No</td>\n",
       "      <td>Month-to-month</td>\n",
       "      <td>Yes</td>\n",
       "      <td>Electronic check</td>\n",
       "      <td>70.70</td>\n",
       "      <td>151.65</td>\n",
       "      <td>Yes</td>\n",
       "    </tr>\n",
       "  </tbody>\n",
       "</table>\n",
       "<p>5 rows × 21 columns</p>\n",
       "</div>"
      ],
      "text/plain": [
       "   customerID  gender  SeniorCitizen Partner Dependents  tenure PhoneService  \\\n",
       "0  7590-VHVEG  Female              0     Yes         No       1           No   \n",
       "1  5575-GNVDE    Male              0      No         No      34          Yes   \n",
       "2  3668-QPYBK    Male              0      No         No       2          Yes   \n",
       "3  7795-CFOCW    Male              0      No         No      45           No   \n",
       "4  9237-HQITU  Female              0      No         No       2          Yes   \n",
       "\n",
       "      MultipleLines InternetService OnlineSecurity  ... DeviceProtection  \\\n",
       "0  No phone service             DSL             No  ...               No   \n",
       "1                No             DSL            Yes  ...              Yes   \n",
       "2                No             DSL            Yes  ...               No   \n",
       "3  No phone service             DSL            Yes  ...              Yes   \n",
       "4                No     Fiber optic             No  ...               No   \n",
       "\n",
       "  TechSupport StreamingTV StreamingMovies        Contract PaperlessBilling  \\\n",
       "0          No          No              No  Month-to-month              Yes   \n",
       "1          No          No              No        One year               No   \n",
       "2          No          No              No  Month-to-month              Yes   \n",
       "3         Yes          No              No        One year               No   \n",
       "4          No          No              No  Month-to-month              Yes   \n",
       "\n",
       "               PaymentMethod MonthlyCharges  TotalCharges  Churn  \n",
       "0           Electronic check          29.85         29.85     No  \n",
       "1               Mailed check          56.95       1889.50     No  \n",
       "2               Mailed check          53.85        108.15    Yes  \n",
       "3  Bank transfer (automatic)          42.30       1840.75     No  \n",
       "4           Electronic check          70.70        151.65    Yes  \n",
       "\n",
       "[5 rows x 21 columns]"
      ]
     },
     "execution_count": 3,
     "metadata": {},
     "output_type": "execute_result"
    }
   ],
   "source": [
    "df = pd.read_parquet(f\"../data/cleaned/telcom-churn.parquet\")\n",
    "df.head()"
   ]
  },
  {
   "cell_type": "code",
   "execution_count": 12,
   "id": "8afb2fd3-8d67-43d1-b578-5557e11382e3",
   "metadata": {},
   "outputs": [
    {
     "data": {
      "text/plain": [
       "{'customerID': {'is_raw': True, 'type': 'ID'},\n",
       " 'gender': {'is_raw': True, 'var_type': 'boolean', 'value_type': 'text'},\n",
       " 'SeniorCitizen': {'is_raw': True,\n",
       "  'var_type': 'boolean',\n",
       "  'value_type': 'numeric'},\n",
       " 'Partner': {'is_raw': True, 'var_type': 'boolean', 'value_type': 'text'},\n",
       " 'Dependents': {'is_raw': True, 'var_type': 'boolean', 'value_type': 'text'},\n",
       " 'tenure': {'is_raw': True, 'var_type': 'real', 'value_type': 'numeric'},\n",
       " 'PhoneService': {'is_raw': True, 'var_type': 'boolean', 'value_type': 'text'},\n",
       " 'MultipleLines': {'is_raw': True,\n",
       "  'var_type': 'categorical',\n",
       "  'value_type': 'text'},\n",
       " 'InternetService': {'is_raw': True,\n",
       "  'var_type': 'categorical',\n",
       "  'value_type': 'text'},\n",
       " 'OnlineSecurity': {'is_raw': True,\n",
       "  'var_type': 'categorical',\n",
       "  'value_type': 'text'},\n",
       " 'OnlineBackup': {'is_raw': True,\n",
       "  'var_type': 'categorical',\n",
       "  'value_type': 'text'},\n",
       " 'DeviceProtection': {'is_raw': True,\n",
       "  'var_type': 'categorical',\n",
       "  'value_type': 'text'},\n",
       " 'TechSupport': {'is_raw': True,\n",
       "  'var_type': 'categorical',\n",
       "  'value_type': 'text'},\n",
       " 'StreamingTV': {'is_raw': True,\n",
       "  'var_type': 'categorical',\n",
       "  'value_type': 'text'},\n",
       " 'StreamingMovies': {'is_raw': True,\n",
       "  'var_type': 'categorical',\n",
       "  'value_type': 'text'},\n",
       " 'Contract': {'is_raw': True, 'var_type': 'categorical', 'value_type': 'text'},\n",
       " 'PaperlessBilling': {'is_raw': True,\n",
       "  'var_type': 'boolean',\n",
       "  'value_type': 'text'},\n",
       " 'PaymentMethod': {'is_raw': True,\n",
       "  'var_type': 'categorical',\n",
       "  'value_type': 'text'},\n",
       " 'MonthlyCharges': {'is_raw': True,\n",
       "  'var_type': 'real',\n",
       "  'value_type': 'numeric'},\n",
       " 'TotalCharges': {'is_raw': True,\n",
       "  'var_type': 'real',\n",
       "  'value_type': 'numeric',\n",
       "  'cleaned': True},\n",
       " 'Churn': {'is_raw': True, 'var_type': 'categorical', 'value_type': 'boolean'}}"
      ]
     },
     "execution_count": 12,
     "metadata": {},
     "output_type": "execute_result"
    }
   ],
   "source": [
    "import json\n",
    "\n",
    "with open(\"../data/feature-meta/cleaned/meta.json\") as f:\n",
    "    feature_meta = json.load(f)\n",
    "\n",
    "feature_meta"
   ]
  },
  {
   "cell_type": "markdown",
   "id": "fc524ed4-9150-481b-9d21-c28ae220abdb",
   "metadata": {},
   "source": [
    "# Bivariate analysis"
   ]
  },
  {
   "cell_type": "markdown",
   "id": "ec24472a-f6a4-4caa-aa3d-a867c06c4cb9",
   "metadata": {},
   "source": [
    "## tenure - Churn"
   ]
  },
  {
   "cell_type": "code",
   "execution_count": 5,
   "id": "8a271586-d8c6-41c5-a2af-ee232af8846f",
   "metadata": {},
   "outputs": [
    {
     "data": {
      "image/png": "[encoded data removed]",
      "text/plain": [
       "<Figure size 720x504 with 1 Axes>"
      ]
     },
     "metadata": {
      "needs_background": "light"
     },
     "output_type": "display_data"
    }
   ],
   "source": [
    "_ = df[[\"tenure\", \"Churn\"]]\n",
    "\n",
    "plt.figure(figsize=[10, 7])\n",
    "plt.title(\"Box plot of tenure vs Churn\")\n",
    "sns.boxplot(x=\"tenure\", y=\"Churn\", data=_)\n",
    "plt.grid()\n",
    "plt.show()"
   ]
  },
  {
   "cell_type": "markdown",
   "id": "664269be-32ce-4685-856f-8739c4f455ad",
   "metadata": {},
   "source": [
    "## MonthlyCharges - Churn"
   ]
  },
  {
   "cell_type": "code",
   "execution_count": 13,
   "id": "d87bd791-4943-42f1-8737-e31b3cb70d8b",
   "metadata": {},
   "outputs": [
    {
     "data": {
      "image/png": "[encoded data removed]",
      "text/plain": [
       "<Figure size 720x504 with 1 Axes>"
      ]
     },
     "metadata": {
      "needs_background": "light"
     },
     "output_type": "display_data"
    }
   ],
   "source": [
    "_ = df[[\"MonthlyCharges\", \"Churn\"]]\n",
    "\n",
    "plt.figure(figsize=[10, 7])\n",
    "plt.title(\"Box plot of MonthlyCharges vs Churn\")\n",
    "sns.boxplot(x=\"MonthlyCharges\", y=\"Churn\", data=_)\n",
    "plt.grid()\n",
    "plt.show()"
   ]
  },
  {
   "cell_type": "markdown",
   "id": "ea356f94-194c-49d4-ae11-0be96292cabb",
   "metadata": {},
   "source": [
    "## TotalCharges - Churn"
   ]
  },
  {
   "cell_type": "code",
   "execution_count": 14,
   "id": "60157976-fb8f-4307-bf47-cb291ed719b5",
   "metadata": {},
   "outputs": [
    {
     "data": {
      "image/png": "[encoded data removed]",
      "text/plain": [
       "<Figure size 720x504 with 1 Axes>"
      ]
     },
     "metadata": {
      "needs_background": "light"
     },
     "output_type": "display_data"
    }
   ],
   "source": [
    "_ = df[[\"TotalCharges\", \"Churn\"]]\n",
    "\n",
    "plt.figure(figsize=[10, 7])\n",
    "plt.title(\"Box plot of TotalCharges vs Churn\")\n",
    "sns.boxplot(x=\"TotalCharges\", y=\"Churn\", data=_)\n",
    "plt.grid()\n",
    "plt.show()"
   ]
  },
  {
   "cell_type": "markdown",
   "id": "04e35b52-a3bb-42ce-815d-49d7a2a053b1",
   "metadata": {},
   "source": []
  },
  {
   "cell_type": "markdown",
   "id": "51cfee15-6cab-47b0-8cd0-b235684f5400",
   "metadata": {},
   "source": [
    "## Gender - Churn"
   ]
  },
  {
   "cell_type": "code",
   "execution_count": 25,
   "id": "0dab19db-42b0-4980-a35d-b134e2990a7f",
   "metadata": {},
   "outputs": [
    {
     "data": {
      "text/html": [
       "<div>\n",
       "<style scoped>\n",
       "    .dataframe tbody tr th:only-of-type {\n",
       "        vertical-align: middle;\n",
       "    }\n",
       "\n",
       "    .dataframe tbody tr th {\n",
       "        vertical-align: top;\n",
       "    }\n",
       "\n",
       "    .dataframe thead th {\n",
       "        text-align: right;\n",
       "    }\n",
       "</style>\n",
       "<table border=\"1\" class=\"dataframe\">\n",
       "  <thead>\n",
       "    <tr style=\"text-align: right;\">\n",
       "      <th></th>\n",
       "      <th>gender</th>\n",
       "      <th>Churn</th>\n",
       "      <th>per_gender_churn_sum</th>\n",
       "    </tr>\n",
       "  </thead>\n",
       "  <tbody>\n",
       "    <tr>\n",
       "      <th>0</th>\n",
       "      <td>Female</td>\n",
       "      <td>No</td>\n",
       "      <td>2549</td>\n",
       "    </tr>\n",
       "    <tr>\n",
       "      <th>1</th>\n",
       "      <td>Female</td>\n",
       "      <td>Yes</td>\n",
       "      <td>939</td>\n",
       "    </tr>\n",
       "    <tr>\n",
       "      <th>2</th>\n",
       "      <td>Male</td>\n",
       "      <td>No</td>\n",
       "      <td>2625</td>\n",
       "    </tr>\n",
       "    <tr>\n",
       "      <th>3</th>\n",
       "      <td>Male</td>\n",
       "      <td>Yes</td>\n",
       "      <td>930</td>\n",
       "    </tr>\n",
       "  </tbody>\n",
       "</table>\n",
       "</div>"
      ],
      "text/plain": [
       "   gender Churn  per_gender_churn_sum\n",
       "0  Female    No                  2549\n",
       "1  Female   Yes                   939\n",
       "2    Male    No                  2625\n",
       "3    Male   Yes                   930"
      ]
     },
     "metadata": {},
     "output_type": "display_data"
    },
    {
     "data": {
      "image/png": "[encoded data removed]",
      "text/plain": [
       "<Figure size 576x504 with 1 Axes>"
      ]
     },
     "metadata": {
      "needs_background": "light"
     },
     "output_type": "display_data"
    }
   ],
   "source": [
    "df_temp = df[[\"gender\", \"Churn\"]]\n",
    "df_temp[\"per_gender_churn_sum\"] = 1\n",
    "df_temp = df_temp.groupby([\"gender\", \"Churn\"], as_index=False).sum()\n",
    "display(df_temp)\n",
    "\n",
    "plt.figure(figsize=[8, 7])\n",
    "plt.title(\"Box plot of per gender churn\")\n",
    "sns.barplot(y=\"per_gender_churn_sum\", x=\"gender\", data=df_temp, hue=\"Churn\")\n",
    "plt.grid()\n",
    "plt.show()"
   ]
  },
  {
   "cell_type": "markdown",
   "id": "b069a698-81d6-4826-abb8-6db4ead9b241",
   "metadata": {},
   "source": [
    "## SeniorCitizen - Churn"
   ]
  },
  {
   "cell_type": "code",
   "execution_count": 26,
   "id": "e49d453b-d7c1-4485-b82e-8566b326715a",
   "metadata": {},
   "outputs": [
    {
     "data": {
      "text/html": [
       "<div>\n",
       "<style scoped>\n",
       "    .dataframe tbody tr th:only-of-type {\n",
       "        vertical-align: middle;\n",
       "    }\n",
       "\n",
       "    .dataframe tbody tr th {\n",
       "        vertical-align: top;\n",
       "    }\n",
       "\n",
       "    .dataframe thead th {\n",
       "        text-align: right;\n",
       "    }\n",
       "</style>\n",
       "<table border=\"1\" class=\"dataframe\">\n",
       "  <thead>\n",
       "    <tr style=\"text-align: right;\">\n",
       "      <th></th>\n",
       "      <th>SeniorCitizen</th>\n",
       "      <th>Churn</th>\n",
       "      <th>per_SeniorCitizen_churn_sum</th>\n",
       "    </tr>\n",
       "  </thead>\n",
       "  <tbody>\n",
       "    <tr>\n",
       "      <th>0</th>\n",
       "      <td>0</td>\n",
       "      <td>No</td>\n",
       "      <td>4508</td>\n",
       "    </tr>\n",
       "    <tr>\n",
       "      <th>1</th>\n",
       "      <td>0</td>\n",
       "      <td>Yes</td>\n",
       "      <td>1393</td>\n",
       "    </tr>\n",
       "    <tr>\n",
       "      <th>2</th>\n",
       "      <td>1</td>\n",
       "      <td>No</td>\n",
       "      <td>666</td>\n",
       "    </tr>\n",
       "    <tr>\n",
       "      <th>3</th>\n",
       "      <td>1</td>\n",
       "      <td>Yes</td>\n",
       "      <td>476</td>\n",
       "    </tr>\n",
       "  </tbody>\n",
       "</table>\n",
       "</div>"
      ],
      "text/plain": [
       "   SeniorCitizen Churn  per_SeniorCitizen_churn_sum\n",
       "0              0    No                         4508\n",
       "1              0   Yes                         1393\n",
       "2              1    No                          666\n",
       "3              1   Yes                          476"
      ]
     },
     "metadata": {},
     "output_type": "display_data"
    },
    {
     "data": {
      "image/png": "[encoded data removed]",
      "text/plain": [
       "<Figure size 576x504 with 1 Axes>"
      ]
     },
     "metadata": {
      "needs_background": "light"
     },
     "output_type": "display_data"
    }
   ],
   "source": [
    "df_temp = df[[\"SeniorCitizen\", \"Churn\"]]\n",
    "df_temp[\"per_SeniorCitizen_churn_sum\"] = 1\n",
    "df_temp = df_temp.groupby([\"SeniorCitizen\", \"Churn\"], as_index=False).sum()\n",
    "display(df_temp)\n",
    "\n",
    "plt.figure(figsize=[8, 7])\n",
    "plt.title(\"Box plot of per SeniorCitizen churn\")\n",
    "sns.barplot(\n",
    "    y=\"per_SeniorCitizen_churn_sum\", x=\"SeniorCitizen\", data=df_temp, hue=\"Churn\"\n",
    ")\n",
    "plt.grid()\n",
    "plt.show()"
   ]
  },
  {
   "cell_type": "markdown",
   "id": "f3f959f6-a431-4113-acac-e1f405ceb813",
   "metadata": {},
   "source": [
    "## Dependents - Churn"
   ]
  },
  {
   "cell_type": "code",
   "execution_count": 27,
   "id": "fa233418-b865-448a-a874-3cd3fd620bc0",
   "metadata": {},
   "outputs": [
    {
     "data": {
      "text/html": [
       "<div>\n",
       "<style scoped>\n",
       "    .dataframe tbody tr th:only-of-type {\n",
       "        vertical-align: middle;\n",
       "    }\n",
       "\n",
       "    .dataframe tbody tr th {\n",
       "        vertical-align: top;\n",
       "    }\n",
       "\n",
       "    .dataframe thead th {\n",
       "        text-align: right;\n",
       "    }\n",
       "</style>\n",
       "<table border=\"1\" class=\"dataframe\">\n",
       "  <thead>\n",
       "    <tr style=\"text-align: right;\">\n",
       "      <th></th>\n",
       "      <th>Partner</th>\n",
       "      <th>Churn</th>\n",
       "      <th>per_Partner_churn_sum</th>\n",
       "    </tr>\n",
       "  </thead>\n",
       "  <tbody>\n",
       "    <tr>\n",
       "      <th>0</th>\n",
       "      <td>No</td>\n",
       "      <td>No</td>\n",
       "      <td>2441</td>\n",
       "    </tr>\n",
       "    <tr>\n",
       "      <th>1</th>\n",
       "      <td>No</td>\n",
       "      <td>Yes</td>\n",
       "      <td>1200</td>\n",
       "    </tr>\n",
       "    <tr>\n",
       "      <th>2</th>\n",
       "      <td>Yes</td>\n",
       "      <td>No</td>\n",
       "      <td>2733</td>\n",
       "    </tr>\n",
       "    <tr>\n",
       "      <th>3</th>\n",
       "      <td>Yes</td>\n",
       "      <td>Yes</td>\n",
       "      <td>669</td>\n",
       "    </tr>\n",
       "  </tbody>\n",
       "</table>\n",
       "</div>"
      ],
      "text/plain": [
       "  Partner Churn  per_Partner_churn_sum\n",
       "0      No    No                   2441\n",
       "1      No   Yes                   1200\n",
       "2     Yes    No                   2733\n",
       "3     Yes   Yes                    669"
      ]
     },
     "metadata": {},
     "output_type": "display_data"
    },
    {
     "data": {
      "image/png": "[encoded data removed]",
      "text/plain": [
       "<Figure size 576x504 with 1 Axes>"
      ]
     },
     "metadata": {
      "needs_background": "light"
     },
     "output_type": "display_data"
    }
   ],
   "source": [
    "df_temp = df[[\"Dependents\", \"Churn\"]]\n",
    "df_temp[\"per_Dependents_churn_sum\"] = 1\n",
    "df_temp = df_temp.groupby([\"Dependents\", \"Churn\"], as_index=False).sum()\n",
    "display(df_temp)\n",
    "\n",
    "plt.figure(figsize=[8, 7])\n",
    "plt.title(\"Box plot of per Dependents churn\")\n",
    "sns.barplot(y=\"per_Dependents_churn_sum\", x=\"Dependents\", data=df_temp, hue=\"Churn\")\n",
    "plt.grid()\n",
    "plt.show()"
   ]
  },
  {
   "cell_type": "markdown",
   "id": "659e0f62-8fdf-47d3-b0cf-8a3476ed5183",
   "metadata": {},
   "source": [
    "## MultipleLines - Churn"
   ]
  },
  {
   "cell_type": "code",
   "execution_count": 30,
   "id": "06e566ee-131a-478e-b8f7-47f907edb2c3",
   "metadata": {},
   "outputs": [
    {
     "data": {
      "text/html": [
       "<div>\n",
       "<style scoped>\n",
       "    .dataframe tbody tr th:only-of-type {\n",
       "        vertical-align: middle;\n",
       "    }\n",
       "\n",
       "    .dataframe tbody tr th {\n",
       "        vertical-align: top;\n",
       "    }\n",
       "\n",
       "    .dataframe thead th {\n",
       "        text-align: right;\n",
       "    }\n",
       "</style>\n",
       "<table border=\"1\" class=\"dataframe\">\n",
       "  <thead>\n",
       "    <tr style=\"text-align: right;\">\n",
       "      <th></th>\n",
       "      <th>MultipleLines</th>\n",
       "      <th>Churn</th>\n",
       "      <th>per_MultipleLines_churn_sum</th>\n",
       "    </tr>\n",
       "  </thead>\n",
       "  <tbody>\n",
       "    <tr>\n",
       "      <th>0</th>\n",
       "      <td>No</td>\n",
       "      <td>No</td>\n",
       "      <td>2541</td>\n",
       "    </tr>\n",
       "    <tr>\n",
       "      <th>1</th>\n",
       "      <td>No</td>\n",
       "      <td>Yes</td>\n",
       "      <td>849</td>\n",
       "    </tr>\n",
       "    <tr>\n",
       "      <th>2</th>\n",
       "      <td>No phone service</td>\n",
       "      <td>No</td>\n",
       "      <td>512</td>\n",
       "    </tr>\n",
       "    <tr>\n",
       "      <th>3</th>\n",
       "      <td>No phone service</td>\n",
       "      <td>Yes</td>\n",
       "      <td>170</td>\n",
       "    </tr>\n",
       "    <tr>\n",
       "      <th>4</th>\n",
       "      <td>Yes</td>\n",
       "      <td>No</td>\n",
       "      <td>2121</td>\n",
       "    </tr>\n",
       "    <tr>\n",
       "      <th>5</th>\n",
       "      <td>Yes</td>\n",
       "      <td>Yes</td>\n",
       "      <td>850</td>\n",
       "    </tr>\n",
       "  </tbody>\n",
       "</table>\n",
       "</div>"
      ],
      "text/plain": [
       "      MultipleLines Churn  per_MultipleLines_churn_sum\n",
       "0                No    No                         2541\n",
       "1                No   Yes                          849\n",
       "2  No phone service    No                          512\n",
       "3  No phone service   Yes                          170\n",
       "4               Yes    No                         2121\n",
       "5               Yes   Yes                          850"
      ]
     },
     "metadata": {},
     "output_type": "display_data"
    },
    {
     "data": {
      "image/png": "[encoded data removed]",
      "text/plain": [
       "<Figure size 576x504 with 1 Axes>"
      ]
     },
     "metadata": {
      "needs_background": "light"
     },
     "output_type": "display_data"
    }
   ],
   "source": [
    "df_temp = df[[\"MultipleLines\", \"Churn\"]]\n",
    "df_temp[\"per_MultipleLines_churn_sum\"] = 1\n",
    "df_temp = df_temp.groupby([\"MultipleLines\", \"Churn\"], as_index=False).sum()\n",
    "display(df_temp)\n",
    "\n",
    "plt.figure(figsize=[8, 7])\n",
    "plt.title(\"Box plot of per MultipleLines churn\")\n",
    "sns.barplot(\n",
    "    y=\"per_MultipleLines_churn_sum\", x=\"MultipleLines\", data=df_temp, hue=\"Churn\"\n",
    ")\n",
    "plt.grid()\n",
    "plt.show()"
   ]
  },
  {
   "cell_type": "markdown",
   "id": "b08237ac-e54c-440c-8d69-3b7bff54eef4",
   "metadata": {},
   "source": [
    "## InternetService - Churn"
   ]
  },
  {
   "cell_type": "code",
   "execution_count": 31,
   "id": "935f421d-a99e-4684-ba4d-330c504dc5b3",
   "metadata": {},
   "outputs": [
    {
     "data": {
      "text/html": [
       "<div>\n",
       "<style scoped>\n",
       "    .dataframe tbody tr th:only-of-type {\n",
       "        vertical-align: middle;\n",
       "    }\n",
       "\n",
       "    .dataframe tbody tr th {\n",
       "        vertical-align: top;\n",
       "    }\n",
       "\n",
       "    .dataframe thead th {\n",
       "        text-align: right;\n",
       "    }\n",
       "</style>\n",
       "<table border=\"1\" class=\"dataframe\">\n",
       "  <thead>\n",
       "    <tr style=\"text-align: right;\">\n",
       "      <th></th>\n",
       "      <th>InternetService</th>\n",
       "      <th>Churn</th>\n",
       "      <th>per_InternetService_churn_sum</th>\n",
       "    </tr>\n",
       "  </thead>\n",
       "  <tbody>\n",
       "    <tr>\n",
       "      <th>0</th>\n",
       "      <td>DSL</td>\n",
       "      <td>No</td>\n",
       "      <td>1962</td>\n",
       "    </tr>\n",
       "    <tr>\n",
       "      <th>1</th>\n",
       "      <td>DSL</td>\n",
       "      <td>Yes</td>\n",
       "      <td>459</td>\n",
       "    </tr>\n",
       "    <tr>\n",
       "      <th>2</th>\n",
       "      <td>Fiber optic</td>\n",
       "      <td>No</td>\n",
       "      <td>1799</td>\n",
       "    </tr>\n",
       "    <tr>\n",
       "      <th>3</th>\n",
       "      <td>Fiber optic</td>\n",
       "      <td>Yes</td>\n",
       "      <td>1297</td>\n",
       "    </tr>\n",
       "    <tr>\n",
       "      <th>4</th>\n",
       "      <td>No</td>\n",
       "      <td>No</td>\n",
       "      <td>1413</td>\n",
       "    </tr>\n",
       "    <tr>\n",
       "      <th>5</th>\n",
       "      <td>No</td>\n",
       "      <td>Yes</td>\n",
       "      <td>113</td>\n",
       "    </tr>\n",
       "  </tbody>\n",
       "</table>\n",
       "</div>"
      ],
      "text/plain": [
       "  InternetService Churn  per_InternetService_churn_sum\n",
       "0             DSL    No                           1962\n",
       "1             DSL   Yes                            459\n",
       "2     Fiber optic    No                           1799\n",
       "3     Fiber optic   Yes                           1297\n",
       "4              No    No                           1413\n",
       "5              No   Yes                            113"
      ]
     },
     "metadata": {},
     "output_type": "display_data"
    },
    {
     "data": {
      "image/png": "[encoded data removed]",
      "text/plain": [
       "<Figure size 576x504 with 1 Axes>"
      ]
     },
     "metadata": {
      "needs_background": "light"
     },
     "output_type": "display_data"
    }
   ],
   "source": [
    "df_temp = df[[\"InternetService\", \"Churn\"]]\n",
    "df_temp[\"per_InternetService_churn_sum\"] = 1\n",
    "df_temp = df_temp.groupby([\"InternetService\", \"Churn\"], as_index=False).sum()\n",
    "display(df_temp)\n",
    "\n",
    "plt.figure(figsize=[8, 7])\n",
    "plt.title(\"Box plot of per InternetService churn\")\n",
    "sns.barplot(\n",
    "    y=\"per_InternetService_churn_sum\", x=\"InternetService\", data=df_temp, hue=\"Churn\"\n",
    ")\n",
    "plt.grid()\n",
    "plt.show()"
   ]
  },
  {
   "cell_type": "markdown",
   "id": "9c253f25-ad52-4770-90f7-90e606b7852c",
   "metadata": {},
   "source": [
    "## PaperlessBilling - Churn"
   ]
  },
  {
   "cell_type": "code",
   "execution_count": 32,
   "id": "510d50f4-4c75-423c-9313-e7367b3e899f",
   "metadata": {},
   "outputs": [
    {
     "data": {
      "text/html": [
       "<div>\n",
       "<style scoped>\n",
       "    .dataframe tbody tr th:only-of-type {\n",
       "        vertical-align: middle;\n",
       "    }\n",
       "\n",
       "    .dataframe tbody tr th {\n",
       "        vertical-align: top;\n",
       "    }\n",
       "\n",
       "    .dataframe thead th {\n",
       "        text-align: right;\n",
       "    }\n",
       "</style>\n",
       "<table border=\"1\" class=\"dataframe\">\n",
       "  <thead>\n",
       "    <tr style=\"text-align: right;\">\n",
       "      <th></th>\n",
       "      <th>PaperlessBilling</th>\n",
       "      <th>Churn</th>\n",
       "      <th>per_PaperlessBilling_churn_sum</th>\n",
       "    </tr>\n",
       "  </thead>\n",
       "  <tbody>\n",
       "    <tr>\n",
       "      <th>0</th>\n",
       "      <td>No</td>\n",
       "      <td>No</td>\n",
       "      <td>2403</td>\n",
       "    </tr>\n",
       "    <tr>\n",
       "      <th>1</th>\n",
       "      <td>No</td>\n",
       "      <td>Yes</td>\n",
       "      <td>469</td>\n",
       "    </tr>\n",
       "    <tr>\n",
       "      <th>2</th>\n",
       "      <td>Yes</td>\n",
       "      <td>No</td>\n",
       "      <td>2771</td>\n",
       "    </tr>\n",
       "    <tr>\n",
       "      <th>3</th>\n",
       "      <td>Yes</td>\n",
       "      <td>Yes</td>\n",
       "      <td>1400</td>\n",
       "    </tr>\n",
       "  </tbody>\n",
       "</table>\n",
       "</div>"
      ],
      "text/plain": [
       "  PaperlessBilling Churn  per_PaperlessBilling_churn_sum\n",
       "0               No    No                            2403\n",
       "1               No   Yes                             469\n",
       "2              Yes    No                            2771\n",
       "3              Yes   Yes                            1400"
      ]
     },
     "metadata": {},
     "output_type": "display_data"
    },
    {
     "data": {
      "image/png": "[encoded data removed]",
      "text/plain": [
       "<Figure size 576x504 with 1 Axes>"
      ]
     },
     "metadata": {
      "needs_background": "light"
     },
     "output_type": "display_data"
    }
   ],
   "source": [
    "df_temp = df[[\"PaperlessBilling\", \"Churn\"]]\n",
    "df_temp[\"per_PaperlessBilling_churn_sum\"] = 1\n",
    "df_temp = df_temp.groupby([\"PaperlessBilling\", \"Churn\"], as_index=False).sum()\n",
    "display(df_temp)\n",
    "\n",
    "plt.figure(figsize=[8, 7])\n",
    "plt.title(\"Box plot of per PaperlessBilling churn\")\n",
    "sns.barplot(\n",
    "    y=\"per_PaperlessBilling_churn_sum\", x=\"PaperlessBilling\", data=df_temp, hue=\"Churn\"\n",
    ")\n",
    "plt.grid()\n",
    "plt.show()"
   ]
  },
  {
   "cell_type": "markdown",
   "id": "66896403-5b9b-4484-9a8b-d3f1f2b64b22",
   "metadata": {},
   "source": [
    "## PaymentMethod - Churn"
   ]
  },
  {
   "cell_type": "code",
   "execution_count": 34,
   "id": "252decb7-4117-46d1-a032-388f58fda750",
   "metadata": {},
   "outputs": [
    {
     "data": {
      "text/html": [
       "<div>\n",
       "<style scoped>\n",
       "    .dataframe tbody tr th:only-of-type {\n",
       "        vertical-align: middle;\n",
       "    }\n",
       "\n",
       "    .dataframe tbody tr th {\n",
       "        vertical-align: top;\n",
       "    }\n",
       "\n",
       "    .dataframe thead th {\n",
       "        text-align: right;\n",
       "    }\n",
       "</style>\n",
       "<table border=\"1\" class=\"dataframe\">\n",
       "  <thead>\n",
       "    <tr style=\"text-align: right;\">\n",
       "      <th></th>\n",
       "      <th>PaymentMethod</th>\n",
       "      <th>Churn</th>\n",
       "      <th>per_PaymentMethod_churn_sum</th>\n",
       "    </tr>\n",
       "  </thead>\n",
       "  <tbody>\n",
       "    <tr>\n",
       "      <th>0</th>\n",
       "      <td>Bank transfer (automatic)</td>\n",
       "      <td>No</td>\n",
       "      <td>1286</td>\n",
       "    </tr>\n",
       "    <tr>\n",
       "      <th>1</th>\n",
       "      <td>Bank transfer (automatic)</td>\n",
       "      <td>Yes</td>\n",
       "      <td>258</td>\n",
       "    </tr>\n",
       "    <tr>\n",
       "      <th>2</th>\n",
       "      <td>Credit card (automatic)</td>\n",
       "      <td>No</td>\n",
       "      <td>1290</td>\n",
       "    </tr>\n",
       "    <tr>\n",
       "      <th>3</th>\n",
       "      <td>Credit card (automatic)</td>\n",
       "      <td>Yes</td>\n",
       "      <td>232</td>\n",
       "    </tr>\n",
       "    <tr>\n",
       "      <th>4</th>\n",
       "      <td>Electronic check</td>\n",
       "      <td>No</td>\n",
       "      <td>1294</td>\n",
       "    </tr>\n",
       "    <tr>\n",
       "      <th>5</th>\n",
       "      <td>Electronic check</td>\n",
       "      <td>Yes</td>\n",
       "      <td>1071</td>\n",
       "    </tr>\n",
       "    <tr>\n",
       "      <th>6</th>\n",
       "      <td>Mailed check</td>\n",
       "      <td>No</td>\n",
       "      <td>1304</td>\n",
       "    </tr>\n",
       "    <tr>\n",
       "      <th>7</th>\n",
       "      <td>Mailed check</td>\n",
       "      <td>Yes</td>\n",
       "      <td>308</td>\n",
       "    </tr>\n",
       "  </tbody>\n",
       "</table>\n",
       "</div>"
      ],
      "text/plain": [
       "               PaymentMethod Churn  per_PaymentMethod_churn_sum\n",
       "0  Bank transfer (automatic)    No                         1286\n",
       "1  Bank transfer (automatic)   Yes                          258\n",
       "2    Credit card (automatic)    No                         1290\n",
       "3    Credit card (automatic)   Yes                          232\n",
       "4           Electronic check    No                         1294\n",
       "5           Electronic check   Yes                         1071\n",
       "6               Mailed check    No                         1304\n",
       "7               Mailed check   Yes                          308"
      ]
     },
     "metadata": {},
     "output_type": "display_data"
    },
    {
     "data": {
      "image/png": "[encoded data removed]",
      "text/plain": [
       "<Figure size 720x504 with 1 Axes>"
      ]
     },
     "metadata": {
      "needs_background": "light"
     },
     "output_type": "display_data"
    }
   ],
   "source": [
    "df_temp = df[[\"PaymentMethod\", \"Churn\"]]\n",
    "df_temp[\"per_PaymentMethod_churn_sum\"] = 1\n",
    "df_temp = df_temp.groupby([\"PaymentMethod\", \"Churn\"], as_index=False).sum()\n",
    "display(df_temp)\n",
    "\n",
    "plt.figure(figsize=[10, 7])\n",
    "plt.title(\"Box plot of per PaymentMethod churn\")\n",
    "sns.barplot(\n",
    "    y=\"per_PaymentMethod_churn_sum\", x=\"PaymentMethod\", data=df_temp, hue=\"Churn\"\n",
    ")\n",
    "plt.grid()\n",
    "plt.show()"
   ]
  },
  {
   "cell_type": "markdown",
   "id": "bb379b96-6850-4825-bff0-0bfa8246943e",
   "metadata": {},
   "source": [
    "## Contract - Churn"
   ]
  },
  {
   "cell_type": "code",
   "execution_count": 40,
   "id": "4db3fdc8-6a01-476b-9652-49f3cd161b16",
   "metadata": {},
   "outputs": [
    {
     "data": {
      "text/html": [
       "<div>\n",
       "<style scoped>\n",
       "    .dataframe tbody tr th:only-of-type {\n",
       "        vertical-align: middle;\n",
       "    }\n",
       "\n",
       "    .dataframe tbody tr th {\n",
       "        vertical-align: top;\n",
       "    }\n",
       "\n",
       "    .dataframe thead th {\n",
       "        text-align: right;\n",
       "    }\n",
       "</style>\n",
       "<table border=\"1\" class=\"dataframe\">\n",
       "  <thead>\n",
       "    <tr style=\"text-align: right;\">\n",
       "      <th></th>\n",
       "      <th>Contract</th>\n",
       "      <th>Churn</th>\n",
       "      <th>per_Contract_churn_sum</th>\n",
       "    </tr>\n",
       "  </thead>\n",
       "  <tbody>\n",
       "    <tr>\n",
       "      <th>0</th>\n",
       "      <td>Month-to-month</td>\n",
       "      <td>No</td>\n",
       "      <td>2220</td>\n",
       "    </tr>\n",
       "    <tr>\n",
       "      <th>1</th>\n",
       "      <td>Month-to-month</td>\n",
       "      <td>Yes</td>\n",
       "      <td>1655</td>\n",
       "    </tr>\n",
       "    <tr>\n",
       "      <th>2</th>\n",
       "      <td>One year</td>\n",
       "      <td>No</td>\n",
       "      <td>1307</td>\n",
       "    </tr>\n",
       "    <tr>\n",
       "      <th>3</th>\n",
       "      <td>One year</td>\n",
       "      <td>Yes</td>\n",
       "      <td>166</td>\n",
       "    </tr>\n",
       "    <tr>\n",
       "      <th>4</th>\n",
       "      <td>Two year</td>\n",
       "      <td>No</td>\n",
       "      <td>1647</td>\n",
       "    </tr>\n",
       "    <tr>\n",
       "      <th>5</th>\n",
       "      <td>Two year</td>\n",
       "      <td>Yes</td>\n",
       "      <td>48</td>\n",
       "    </tr>\n",
       "  </tbody>\n",
       "</table>\n",
       "</div>"
      ],
      "text/plain": [
       "         Contract Churn  per_Contract_churn_sum\n",
       "0  Month-to-month    No                    2220\n",
       "1  Month-to-month   Yes                    1655\n",
       "2        One year    No                    1307\n",
       "3        One year   Yes                     166\n",
       "4        Two year    No                    1647\n",
       "5        Two year   Yes                      48"
      ]
     },
     "metadata": {},
     "output_type": "display_data"
    },
    {
     "data": {
      "image/png": "[encoded data removed]",
      "text/plain": [
       "<Figure size 720x504 with 1 Axes>"
      ]
     },
     "metadata": {
      "needs_background": "light"
     },
     "output_type": "display_data"
    }
   ],
   "source": [
    "df_temp = df[[\"Contract\", \"Churn\"]]\n",
    "df_temp[\"per_Contract_churn_sum\"] = 1\n",
    "df_temp = df_temp.groupby([\"Contract\", \"Churn\"], as_index=False).sum()\n",
    "display(df_temp)\n",
    "\n",
    "plt.figure(figsize=[10, 7])\n",
    "plt.title(\"Box plot of per Contract churn\")\n",
    "sns.barplot(y=\"per_Contract_churn_sum\", x=\"Contract\", data=df_temp, hue=\"Churn\")\n",
    "plt.grid()\n",
    "plt.show()"
   ]
  },
  {
   "cell_type": "markdown",
   "id": "4d6d7e4c-f433-4e6c-9190-b176866c2082",
   "metadata": {},
   "source": [
    "## PaymentMethod - tenure"
   ]
  },
  {
   "cell_type": "code",
   "execution_count": 35,
   "id": "a3108796-38c1-409e-8200-4a51b6e7b235",
   "metadata": {},
   "outputs": [
    {
     "data": {
      "image/png": "[encoded data removed]",
      "text/plain": [
       "<Figure size 720x504 with 1 Axes>"
      ]
     },
     "metadata": {
      "needs_background": "light"
     },
     "output_type": "display_data"
    }
   ],
   "source": [
    "_ = df[[\"tenure\", \"PaymentMethod\"]]\n",
    "\n",
    "plt.figure(figsize=[10, 7])\n",
    "plt.title(\"Box plot of tenure vs PaymentMethod\")\n",
    "sns.boxplot(x=\"tenure\", y=\"PaymentMethod\", data=_)\n",
    "plt.grid()\n",
    "plt.show()"
   ]
  },
  {
   "cell_type": "markdown",
   "id": "ca28bce0-e4ba-4353-88ca-1f2d0259385d",
   "metadata": {},
   "source": [
    "## InternetService - tenure"
   ]
  },
  {
   "cell_type": "code",
   "execution_count": 36,
   "id": "bf68755d-bc81-4536-a755-9aeaa2fde49d",
   "metadata": {},
   "outputs": [
    {
     "data": {
      "image/png": "[encoded data removed]",
      "text/plain": [
       "<Figure size 720x504 with 1 Axes>"
      ]
     },
     "metadata": {
      "needs_background": "light"
     },
     "output_type": "display_data"
    }
   ],
   "source": [
    "_ = df[[\"tenure\", \"InternetService\"]]\n",
    "\n",
    "plt.figure(figsize=[10, 7])\n",
    "plt.title(\"Box plot of tenure vs InternetService\")\n",
    "sns.boxplot(x=\"tenure\", y=\"InternetService\", data=_)\n",
    "plt.grid()\n",
    "plt.show()"
   ]
  },
  {
   "cell_type": "markdown",
   "id": "f7de4973-7ae0-45a5-b156-d0326c1f020a",
   "metadata": {},
   "source": [
    "## MultipleLines - tenure"
   ]
  },
  {
   "cell_type": "code",
   "execution_count": 37,
   "id": "b411ff02-1612-4d0e-94fc-84a09b78884a",
   "metadata": {},
   "outputs": [
    {
     "data": {
      "image/png": "[encoded data removed]",
      "text/plain": [
       "<Figure size 720x504 with 1 Axes>"
      ]
     },
     "metadata": {
      "needs_background": "light"
     },
     "output_type": "display_data"
    }
   ],
   "source": [
    "_ = df[[\"tenure\", \"MultipleLines\"]]\n",
    "\n",
    "plt.figure(figsize=[10, 7])\n",
    "plt.title(\"Box plot of tenure vs MultipleLines\")\n",
    "sns.boxplot(x=\"tenure\", y=\"MultipleLines\", data=_)\n",
    "plt.grid()\n",
    "plt.show()"
   ]
  },
  {
   "cell_type": "markdown",
   "id": "1cd6886c-5dbb-4e5e-8d29-b705f1fc09a1",
   "metadata": {},
   "source": [
    "## SeniorCitizen - Tenure"
   ]
  },
  {
   "cell_type": "code",
   "execution_count": 39,
   "id": "738ecad9-abf2-4b80-b712-00822f6e570d",
   "metadata": {},
   "outputs": [
    {
     "data": {
      "image/png": "[encoded data removed]",
      "text/plain": [
       "<Figure size 720x504 with 1 Axes>"
      ]
     },
     "metadata": {
      "needs_background": "light"
     },
     "output_type": "display_data"
    }
   ],
   "source": [
    "_ = df[[\"tenure\", \"SeniorCitizen\"]]\n",
    "\n",
    "plt.figure(figsize=[10, 7])\n",
    "plt.title(\"Box plot of tenure vs SeniorCitizen\")\n",
    "sns.boxplot(y=\"tenure\", x=\"SeniorCitizen\", data=_)\n",
    "plt.grid()\n",
    "plt.show()"
   ]
  },
  {
   "cell_type": "markdown",
   "id": "afcc774f-25b7-4a58-9ebb-707b178878d9",
   "metadata": {},
   "source": [
    "## Contract - tenure"
   ]
  },
  {
   "cell_type": "code",
   "execution_count": 41,
   "id": "8cfb80ee-4fcc-464a-9f2f-a3a3b04584e0",
   "metadata": {},
   "outputs": [
    {
     "data": {
      "image/png": "[encoded data removed]",
      "text/plain": [
       "<Figure size 720x504 with 1 Axes>"
      ]
     },
     "metadata": {
      "needs_background": "light"
     },
     "output_type": "display_data"
    }
   ],
   "source": [
    "_ = df[[\"tenure\", \"Contract\"]]\n",
    "\n",
    "plt.figure(figsize=[10, 7])\n",
    "plt.title(\"Box plot of tenure vs Contract\")\n",
    "sns.boxplot(y=\"tenure\", x=\"Contract\", data=_)\n",
    "plt.grid()\n",
    "plt.show()"
   ]
  }
 ],
 "metadata": {
  "kernelspec": {
   "display_name": "Python 3",
   "language": "python",
   "name": "python3"
  },
  "language_info": {
   "codemirror_mode": {
    "name": "ipython",
    "version": 3
   },
   "file_extension": ".py",
   "mimetype": "text/x-python",
   "name": "python",
   "nbconvert_exporter": "python",
   "pygments_lexer": "ipython3",
   "version": "3.8.5"
  },
  "toc-autonumbering": true
 },
 "nbformat": 4,
 "nbformat_minor": 5
}
