{
 "cells": [
  {
   "cell_type": "markdown",
   "id": "cf007834-30af-42e7-b967-a848024b29c0",
   "metadata": {},
   "source": [
    "Reference\n",
    "1. [EDA] https://www.kaggle.com/code/bandiatindra/telecom-churn-prediction\n",
    "1. Notion for modelling use xgboost in the end\n",
    "1. feat selection and importance"
   ]
  },
  {
   "cell_type": "code",
   "execution_count": 1,
   "id": "3b0afb4b-d9cc-4fb8-b075-7eca7e6f922a",
   "metadata": {},
   "outputs": [],
   "source": [
    "import os\n",
    "\n",
    "import matplotlib.pyplot as plt\n",
    "import numpy as np\n",
    "import pandas as pd\n",
    "import seaborn as sns"
   ]
  },
  {
   "cell_type": "code",
   "execution_count": 2,
   "id": "bbfd3560-8438-4729-9ecc-b51d6a2a3ca1",
   "metadata": {},
   "outputs": [],
   "source": [
    "df = pd.read_csv(\"../data/WA_Fn-UseC_-Telco-Customer-Churn.csv\")"
   ]
  },
  {
   "cell_type": "code",
   "execution_count": 3,
   "id": "4db43524-4f0a-4ae4-a7d5-1eb03d311116",
   "metadata": {},
   "outputs": [
    {
     "data": {
      "text/html": [
       "<div>\n",
       "<style scoped>\n",
       "    .dataframe tbody tr th:only-of-type {\n",
       "        vertical-align: middle;\n",
       "    }\n",
       "\n",
       "    .dataframe tbody tr th {\n",
       "        vertical-align: top;\n",
       "    }\n",
       "\n",
       "    .dataframe thead th {\n",
       "        text-align: right;\n",
       "    }\n",
       "</style>\n",
       "<table border=\"1\" class=\"dataframe\">\n",
       "  <thead>\n",
       "    <tr style=\"text-align: right;\">\n",
       "      <th></th>\n",
       "      <th>customerID</th>\n",
       "      <th>gender</th>\n",
       "      <th>SeniorCitizen</th>\n",
       "      <th>Partner</th>\n",
       "      <th>Dependents</th>\n",
       "      <th>tenure</th>\n",
       "      <th>PhoneService</th>\n",
       "      <th>MultipleLines</th>\n",
       "      <th>InternetService</th>\n",
       "      <th>OnlineSecurity</th>\n",
       "      <th>...</th>\n",
       "      <th>DeviceProtection</th>\n",
       "      <th>TechSupport</th>\n",
       "      <th>StreamingTV</th>\n",
       "      <th>StreamingMovies</th>\n",
       "      <th>Contract</th>\n",
       "      <th>PaperlessBilling</th>\n",
       "      <th>PaymentMethod</th>\n",
       "      <th>MonthlyCharges</th>\n",
       "      <th>TotalCharges</th>\n",
       "      <th>Churn</th>\n",
       "    </tr>\n",
       "  </thead>\n",
       "  <tbody>\n",
       "    <tr>\n",
       "      <th>0</th>\n",
       "      <td>7590-VHVEG</td>\n",
       "      <td>Female</td>\n",
       "      <td>0</td>\n",
       "      <td>Yes</td>\n",
       "      <td>No</td>\n",
       "      <td>1</td>\n",
       "      <td>No</td>\n",
       "      <td>No phone service</td>\n",
       "      <td>DSL</td>\n",
       "      <td>No</td>\n",
       "      <td>...</td>\n",
       "      <td>No</td>\n",
       "      <td>No</td>\n",
       "      <td>No</td>\n",
       "      <td>No</td>\n",
       "      <td>Month-to-month</td>\n",
       "      <td>Yes</td>\n",
       "      <td>Electronic check</td>\n",
       "      <td>29.85</td>\n",
       "      <td>29.85</td>\n",
       "      <td>No</td>\n",
       "    </tr>\n",
       "    <tr>\n",
       "      <th>1</th>\n",
       "      <td>5575-GNVDE</td>\n",
       "      <td>Male</td>\n",
       "      <td>0</td>\n",
       "      <td>No</td>\n",
       "      <td>No</td>\n",
       "      <td>34</td>\n",
       "      <td>Yes</td>\n",
       "      <td>No</td>\n",
       "      <td>DSL</td>\n",
       "      <td>Yes</td>\n",
       "      <td>...</td>\n",
       "      <td>Yes</td>\n",
       "      <td>No</td>\n",
       "      <td>No</td>\n",
       "      <td>No</td>\n",
       "      <td>One year</td>\n",
       "      <td>No</td>\n",
       "      <td>Mailed check</td>\n",
       "      <td>56.95</td>\n",
       "      <td>1889.5</td>\n",
       "      <td>No</td>\n",
       "    </tr>\n",
       "    <tr>\n",
       "      <th>2</th>\n",
       "      <td>3668-QPYBK</td>\n",
       "      <td>Male</td>\n",
       "      <td>0</td>\n",
       "      <td>No</td>\n",
       "      <td>No</td>\n",
       "      <td>2</td>\n",
       "      <td>Yes</td>\n",
       "      <td>No</td>\n",
       "      <td>DSL</td>\n",
       "      <td>Yes</td>\n",
       "      <td>...</td>\n",
       "      <td>No</td>\n",
       "      <td>No</td>\n",
       "      <td>No</td>\n",
       "      <td>No</td>\n",
       "      <td>Month-to-month</td>\n",
       "      <td>Yes</td>\n",
       "      <td>Mailed check</td>\n",
       "      <td>53.85</td>\n",
       "      <td>108.15</td>\n",
       "      <td>Yes</td>\n",
       "    </tr>\n",
       "    <tr>\n",
       "      <th>3</th>\n",
       "      <td>7795-CFOCW</td>\n",
       "      <td>Male</td>\n",
       "      <td>0</td>\n",
       "      <td>No</td>\n",
       "      <td>No</td>\n",
       "      <td>45</td>\n",
       "      <td>No</td>\n",
       "      <td>No phone service</td>\n",
       "      <td>DSL</td>\n",
       "      <td>Yes</td>\n",
       "      <td>...</td>\n",
       "      <td>Yes</td>\n",
       "      <td>Yes</td>\n",
       "      <td>No</td>\n",
       "      <td>No</td>\n",
       "      <td>One year</td>\n",
       "      <td>No</td>\n",
       "      <td>Bank transfer (automatic)</td>\n",
       "      <td>42.30</td>\n",
       "      <td>1840.75</td>\n",
       "      <td>No</td>\n",
       "    </tr>\n",
       "    <tr>\n",
       "      <th>4</th>\n",
       "      <td>9237-HQITU</td>\n",
       "      <td>Female</td>\n",
       "      <td>0</td>\n",
       "      <td>No</td>\n",
       "      <td>No</td>\n",
       "      <td>2</td>\n",
       "      <td>Yes</td>\n",
       "      <td>No</td>\n",
       "      <td>Fiber optic</td>\n",
       "      <td>No</td>\n",
       "      <td>...</td>\n",
       "      <td>No</td>\n",
       "      <td>No</td>\n",
       "      <td>No</td>\n",
       "      <td>No</td>\n",
       "      <td>Month-to-month</td>\n",
       "      <td>Yes</td>\n",
       "      <td>Electronic check</td>\n",
       "      <td>70.70</td>\n",
       "      <td>151.65</td>\n",
       "      <td>Yes</td>\n",
       "    </tr>\n",
       "  </tbody>\n",
       "</table>\n",
       "<p>5 rows × 21 columns</p>\n",
       "</div>"
      ],
      "text/plain": [
       "   customerID  gender  SeniorCitizen Partner Dependents  tenure PhoneService  \\\n",
       "0  7590-VHVEG  Female              0     Yes         No       1           No   \n",
       "1  5575-GNVDE    Male              0      No         No      34          Yes   \n",
       "2  3668-QPYBK    Male              0      No         No       2          Yes   \n",
       "3  7795-CFOCW    Male              0      No         No      45           No   \n",
       "4  9237-HQITU  Female              0      No         No       2          Yes   \n",
       "\n",
       "      MultipleLines InternetService OnlineSecurity  ... DeviceProtection  \\\n",
       "0  No phone service             DSL             No  ...               No   \n",
       "1                No             DSL            Yes  ...              Yes   \n",
       "2                No             DSL            Yes  ...               No   \n",
       "3  No phone service             DSL            Yes  ...              Yes   \n",
       "4                No     Fiber optic             No  ...               No   \n",
       "\n",
       "  TechSupport StreamingTV StreamingMovies        Contract PaperlessBilling  \\\n",
       "0          No          No              No  Month-to-month              Yes   \n",
       "1          No          No              No        One year               No   \n",
       "2          No          No              No  Month-to-month              Yes   \n",
       "3         Yes          No              No        One year               No   \n",
       "4          No          No              No  Month-to-month              Yes   \n",
       "\n",
       "               PaymentMethod MonthlyCharges  TotalCharges Churn  \n",
       "0           Electronic check          29.85         29.85    No  \n",
       "1               Mailed check          56.95        1889.5    No  \n",
       "2               Mailed check          53.85        108.15   Yes  \n",
       "3  Bank transfer (automatic)          42.30       1840.75    No  \n",
       "4           Electronic check          70.70        151.65   Yes  \n",
       "\n",
       "[5 rows x 21 columns]"
      ]
     },
     "execution_count": 3,
     "metadata": {},
     "output_type": "execute_result"
    }
   ],
   "source": [
    "df.head()"
   ]
  },
  {
   "cell_type": "code",
   "execution_count": 4,
   "id": "a7d5d1c0-1c2f-480c-b469-7475271d7b6c",
   "metadata": {},
   "outputs": [
    {
     "data": {
      "text/plain": [
       "(7043, 21)"
      ]
     },
     "execution_count": 4,
     "metadata": {},
     "output_type": "execute_result"
    }
   ],
   "source": [
    "df.shape"
   ]
  },
  {
   "cell_type": "code",
   "execution_count": 5,
   "id": "0fc41bf0-7169-409f-af44-d5d8e5b55269",
   "metadata": {},
   "outputs": [
    {
     "data": {
      "text/plain": [
       "Index(['customerID', 'gender', 'SeniorCitizen', 'Partner', 'Dependents',\n",
       "       'tenure', 'PhoneService', 'MultipleLines', 'InternetService',\n",
       "       'OnlineSecurity', 'OnlineBackup', 'DeviceProtection', 'TechSupport',\n",
       "       'StreamingTV', 'StreamingMovies', 'Contract', 'PaperlessBilling',\n",
       "       'PaymentMethod', 'MonthlyCharges', 'TotalCharges', 'Churn'],\n",
       "      dtype='object')"
      ]
     },
     "execution_count": 5,
     "metadata": {},
     "output_type": "execute_result"
    }
   ],
   "source": [
    "df.columns"
   ]
  },
  {
   "cell_type": "markdown",
   "id": "efb319f1-0cc8-416a-8124-271d3369d39b",
   "metadata": {},
   "source": [
    "# Check nans"
   ]
  },
  {
   "cell_type": "code",
   "execution_count": 6,
   "id": "e89be7f1-044f-4276-b202-748f73155402",
   "metadata": {},
   "outputs": [
    {
     "data": {
      "text/plain": [
       "customerID          False\n",
       "gender              False\n",
       "SeniorCitizen       False\n",
       "Partner             False\n",
       "Dependents          False\n",
       "tenure              False\n",
       "PhoneService        False\n",
       "MultipleLines       False\n",
       "InternetService     False\n",
       "OnlineSecurity      False\n",
       "OnlineBackup        False\n",
       "DeviceProtection    False\n",
       "TechSupport         False\n",
       "StreamingTV         False\n",
       "StreamingMovies     False\n",
       "Contract            False\n",
       "PaperlessBilling    False\n",
       "PaymentMethod       False\n",
       "MonthlyCharges      False\n",
       "TotalCharges        False\n",
       "Churn               False\n",
       "dtype: bool"
      ]
     },
     "execution_count": 6,
     "metadata": {},
     "output_type": "execute_result"
    }
   ],
   "source": [
    "nan_cols_series = df.isna().any()\n",
    "nan_cols_series"
   ]
  },
  {
   "cell_type": "code",
   "execution_count": 7,
   "id": "4f5e46d6-77d7-4309-acd3-c1d35c230e26",
   "metadata": {},
   "outputs": [
    {
     "data": {
      "text/plain": [
       "Series([], dtype: bool)"
      ]
     },
     "execution_count": 7,
     "metadata": {},
     "output_type": "execute_result"
    }
   ],
   "source": [
    "nan_cols_series[nan_cols_series]"
   ]
  },
  {
   "cell_type": "markdown",
   "id": "e52c5c8e-731d-4e40-ac0a-1011fd6a0ab1",
   "metadata": {},
   "source": [
    "There are no nans present in the dataset"
   ]
  },
  {
   "cell_type": "markdown",
   "id": "51843e79-58d4-4f0e-adf7-98e5f0104bc9",
   "metadata": {},
   "source": [
    "# Monovariate analysis"
   ]
  },
  {
   "cell_type": "markdown",
   "id": "79e44730-e632-4b90-8eca-9195d0d36689",
   "metadata": {},
   "source": [
    "## customerID"
   ]
  },
  {
   "cell_type": "code",
   "execution_count": 8,
   "id": "b6fae452-6856-4ba4-9630-6689596d7a3d",
   "metadata": {},
   "outputs": [],
   "source": [
    "# check if ids are unique\n",
    "assert df[\"customerID\"].nunique() == df.shape[0]"
   ]
  },
  {
   "cell_type": "markdown",
   "id": "18bdefbf-5f6f-4798-9001-30ee921662a3",
   "metadata": {},
   "source": [
    "## Gender\n",
    "\n",
    "Whether the customer is a male or a female"
   ]
  },
  {
   "cell_type": "code",
   "execution_count": 9,
   "id": "39f62380-23f5-41d4-a319-9d1f097acbee",
   "metadata": {},
   "outputs": [
    {
     "data": {
      "text/plain": [
       "Male      3555\n",
       "Female    3488\n",
       "Name: gender, dtype: int64"
      ]
     },
     "execution_count": 9,
     "metadata": {},
     "output_type": "execute_result"
    }
   ],
   "source": [
    "df[\"gender\"].value_counts()"
   ]
  },
  {
   "cell_type": "markdown",
   "id": "ea7baa2c-57df-4436-ad16-d1dd8dd3fc01",
   "metadata": {},
   "source": [
    "gender has 2 unique values, \n",
    "number of males and females in gender are more or less equal\n",
    "\n"
   ]
  },
  {
   "cell_type": "markdown",
   "id": "5eac6c5b-2516-40ef-b1d0-3d93f040bace",
   "metadata": {},
   "source": [
    "## SeniorCitizen\n",
    "\n",
    "Whether the customer is a senior citizen or not (1, 0)"
   ]
  },
  {
   "cell_type": "code",
   "execution_count": 10,
   "id": "a52923af-d89a-432e-a1e0-cd6f68289b99",
   "metadata": {},
   "outputs": [
    {
     "data": {
      "text/plain": [
       "0    5901\n",
       "1    1142\n",
       "Name: SeniorCitizen, dtype: int64"
      ]
     },
     "execution_count": 10,
     "metadata": {},
     "output_type": "execute_result"
    }
   ],
   "source": [
    "df[\"SeniorCitizen\"].value_counts()"
   ]
  },
  {
   "cell_type": "markdown",
   "id": "2028e147-a66e-44bd-8e38-f55db71129e4",
   "metadata": {},
   "source": [
    "We can see that `SeniorCitizen` is boolean and there is an imbalance in the distribution of the same"
   ]
  },
  {
   "cell_type": "markdown",
   "id": "4077492b-954a-49e1-a9dc-1e56b969f44a",
   "metadata": {},
   "source": [
    "## Partner\n",
    "\n",
    "Whether the customer has a partner or not (Yes, No)"
   ]
  },
  {
   "cell_type": "code",
   "execution_count": 11,
   "id": "a00ee0e2-4ac4-4ca0-b5db-7c482659d775",
   "metadata": {},
   "outputs": [
    {
     "data": {
      "text/plain": [
       "No     3641\n",
       "Yes    3402\n",
       "Name: Partner, dtype: int64"
      ]
     },
     "execution_count": 11,
     "metadata": {},
     "output_type": "execute_result"
    }
   ],
   "source": [
    "df[\"Partner\"].value_counts()"
   ]
  },
  {
   "cell_type": "markdown",
   "id": "5ec9f2df-e017-46c8-90fa-5a7cc0776868",
   "metadata": {},
   "source": [
    "We can see that `Partner` is almost equally distributed in Yes and No"
   ]
  },
  {
   "cell_type": "markdown",
   "id": "b0cb54b1-7566-430e-9b32-e956ba2780c0",
   "metadata": {},
   "source": [
    "## Dependents\n",
    "\n",
    "Whether the customer has dependents or not (Yes, No)\n",
    "\n"
   ]
  },
  {
   "cell_type": "code",
   "execution_count": 12,
   "id": "e097bb31-7043-4d42-a783-0cdbab967f36",
   "metadata": {},
   "outputs": [
    {
     "data": {
      "text/plain": [
       "No     4933\n",
       "Yes    2110\n",
       "Name: Dependents, dtype: int64"
      ]
     },
     "execution_count": 12,
     "metadata": {},
     "output_type": "execute_result"
    }
   ],
   "source": [
    "df[\"Dependents\"].value_counts()"
   ]
  },
  {
   "cell_type": "markdown",
   "id": "bb8cdfb4-1f1d-455a-a031-c5ce468e58db",
   "metadata": {},
   "source": [
    "We can see that `Dependents` is slightly imbalanced in nature, and has 2 unique values"
   ]
  },
  {
   "cell_type": "markdown",
   "id": "c46a25c5-95e3-410a-9c1a-8f781cfc0d56",
   "metadata": {},
   "source": [
    "## tenure\n",
    "\n",
    "Number of months the customer has stayed with the company\n",
    "\n"
   ]
  },
  {
   "cell_type": "code",
   "execution_count": 13,
   "id": "f75c4b58-6859-4239-9b59-d8c171d8f2c2",
   "metadata": {},
   "outputs": [
    {
     "data": {
      "text/plain": [
       "count    7043.000000\n",
       "mean       32.371149\n",
       "std        24.559481\n",
       "min         0.000000\n",
       "25%         9.000000\n",
       "50%        29.000000\n",
       "75%        55.000000\n",
       "max        72.000000\n",
       "Name: tenure, dtype: float64"
      ]
     },
     "execution_count": 13,
     "metadata": {},
     "output_type": "execute_result"
    }
   ],
   "source": [
    "df[\"tenure\"].describe()"
   ]
  },
  {
   "cell_type": "code",
   "execution_count": 14,
   "id": "08795c97-2be3-4666-9658-bbc4504d3810",
   "metadata": {},
   "outputs": [
    {
     "data": {
      "image/png": "[encoded data removed]",
      "text/plain": [
       "<Figure size 720x360 with 1 Axes>"
      ]
     },
     "metadata": {
      "needs_background": "light"
     },
     "output_type": "display_data"
    }
   ],
   "source": [
    "plt.figure(figsize=[10, 5])\n",
    "plt.title(\"KDE plot of tenure\")\n",
    "sns.kdeplot(df[\"tenure\"].values)\n",
    "plt.show()"
   ]
  },
  {
   "cell_type": "markdown",
   "id": "f827c9fa-90ee-42c9-8c60-c46c222d1cc3",
   "metadata": {},
   "source": [
    "1. We can see that tenure distribution is slightly peaked in 2 regions\n",
    "1. peak 1 : region between 0-20\n",
    "1. peak 2 : region between 60-80"
   ]
  },
  {
   "cell_type": "markdown",
   "id": "d25f33fb-d8c5-4384-b636-c25b76833269",
   "metadata": {},
   "source": [
    "## PhoneService\n",
    "Whether the customer has a phone service or not (Yes, No)"
   ]
  },
  {
   "cell_type": "code",
   "execution_count": 15,
   "id": "d0d80b5f-2c08-4358-9e69-8d1e9de93719",
   "metadata": {},
   "outputs": [
    {
     "data": {
      "text/plain": [
       "Yes    6361\n",
       "No      682\n",
       "Name: PhoneService, dtype: int64"
      ]
     },
     "execution_count": 15,
     "metadata": {},
     "output_type": "execute_result"
    }
   ],
   "source": [
    "df[\"PhoneService\"].value_counts()"
   ]
  },
  {
   "cell_type": "markdown",
   "id": "3b821148-6672-4f82-86b8-84e1428a16c3",
   "metadata": {},
   "source": [
    "1. We can see that there is high imbalance in boolean variable `PhoneService`"
   ]
  },
  {
   "cell_type": "markdown",
   "id": "e8bf0f67-a991-4915-8ca0-42279573687d",
   "metadata": {},
   "source": [
    "## MultipleLines\n",
    "Whether the customer has multiple lines or not (Yes, No, No phone service)"
   ]
  },
  {
   "cell_type": "code",
   "execution_count": 16,
   "id": "eb277712-d770-44b8-ad2b-3c41b126d5ae",
   "metadata": {},
   "outputs": [
    {
     "data": {
      "text/plain": [
       "No                  3390\n",
       "Yes                 2971\n",
       "No phone service     682\n",
       "Name: MultipleLines, dtype: int64"
      ]
     },
     "execution_count": 16,
     "metadata": {},
     "output_type": "execute_result"
    }
   ],
   "source": [
    "df[\"MultipleLines\"].value_counts()"
   ]
  },
  {
   "cell_type": "markdown",
   "id": "3aa14718-de72-4e15-902c-b552fdd2d313",
   "metadata": {},
   "source": [
    "1. we can see that `MultipleLines` is a categorical variable\n",
    "1. Yes and No are almost evenly distributed\n",
    "1. we can see that No phone service is comparatively lower in occurence"
   ]
  },
  {
   "cell_type": "markdown",
   "id": "26dc64ac-da7a-47da-82ab-cd8376e1ef84",
   "metadata": {},
   "source": [
    "## InternetService\n",
    "Customer’s internet service provider (DSL, Fiber optic, No)"
   ]
  },
  {
   "cell_type": "code",
   "execution_count": 17,
   "id": "922eee99-9340-49e6-9876-e79e98856c8a",
   "metadata": {},
   "outputs": [
    {
     "data": {
      "text/plain": [
       "Fiber optic    3096\n",
       "DSL            2421\n",
       "No             1526\n",
       "Name: InternetService, dtype: int64"
      ]
     },
     "execution_count": 17,
     "metadata": {},
     "output_type": "execute_result"
    }
   ],
   "source": [
    "df[\"InternetService\"].value_counts()"
   ]
  },
  {
   "cell_type": "markdown",
   "id": "a7db2fc3-df66-454c-a16d-fc6b3b285690",
   "metadata": {},
   "source": [
    "1. We can see that `InternetService` is categorical in nature\n",
    "1. Fiber optic has highest occurence followed by DSL and No"
   ]
  },
  {
   "cell_type": "markdown",
   "id": "131f8b32-bce3-4b74-9b6a-8c0b55e413cd",
   "metadata": {},
   "source": [
    "## OnlineSecurity\n",
    "Whether the customer has online security or not (Yes, No, No internet service)"
   ]
  },
  {
   "cell_type": "code",
   "execution_count": 18,
   "id": "a1be8830-d490-47f6-a885-b9c98881faea",
   "metadata": {},
   "outputs": [
    {
     "data": {
      "text/plain": [
       "No                     3498\n",
       "Yes                    2019\n",
       "No internet service    1526\n",
       "Name: OnlineSecurity, dtype: int64"
      ]
     },
     "execution_count": 18,
     "metadata": {},
     "output_type": "execute_result"
    }
   ],
   "source": [
    "df[\"OnlineSecurity\"].value_counts()"
   ]
  },
  {
   "cell_type": "markdown",
   "id": "6c8269da-9485-46d9-9943-88946f084f59",
   "metadata": {},
   "source": [
    "1. We can see that `OnlineSecurity` has 3 unique categories\n",
    "1. Occurences and their order can be observed in the above table"
   ]
  },
  {
   "cell_type": "markdown",
   "id": "726541a6-86e4-4b09-ac3b-a8d187f2a7b7",
   "metadata": {},
   "source": [
    "## OnlineBackup\n",
    "Whether the customer has online backup or not (Yes, No, No internet service)"
   ]
  },
  {
   "cell_type": "code",
   "execution_count": 19,
   "id": "ee9498eb-5ba9-4ef2-84de-8835672a52d3",
   "metadata": {},
   "outputs": [
    {
     "data": {
      "text/plain": [
       "No                     3088\n",
       "Yes                    2429\n",
       "No internet service    1526\n",
       "Name: OnlineBackup, dtype: int64"
      ]
     },
     "execution_count": 19,
     "metadata": {},
     "output_type": "execute_result"
    }
   ],
   "source": [
    "df[\"OnlineBackup\"].value_counts()"
   ]
  },
  {
   "cell_type": "markdown",
   "id": "a6f8b7ec-6b3c-4c94-abd8-3f089a18ecbc",
   "metadata": {},
   "source": [
    "1. We can see that `OnlineBackup` has 3 unique categories\n",
    "1. Occurences and their order can be observed in the above table"
   ]
  },
  {
   "cell_type": "markdown",
   "id": "5a6f0556-6e7d-435f-b88f-07fea3df185c",
   "metadata": {},
   "source": [
    "## DeviceProtection\n",
    "Whether the customer has device protection or not (Yes, No, No internet service)"
   ]
  },
  {
   "cell_type": "code",
   "execution_count": 20,
   "id": "6fd429a6-0aec-4fda-b049-3aca20043200",
   "metadata": {},
   "outputs": [
    {
     "data": {
      "text/plain": [
       "No                     3095\n",
       "Yes                    2422\n",
       "No internet service    1526\n",
       "Name: DeviceProtection, dtype: int64"
      ]
     },
     "execution_count": 20,
     "metadata": {},
     "output_type": "execute_result"
    }
   ],
   "source": [
    "df[\"DeviceProtection\"].value_counts()"
   ]
  },
  {
   "cell_type": "markdown",
   "id": "84d52ea3-111e-4b5c-b9eb-4557ecc1d7dc",
   "metadata": {},
   "source": [
    "1. We can see that `DeviceProtection` has 3 unique categories\n",
    "1. Occurences and their order can be observed in the above table"
   ]
  },
  {
   "cell_type": "markdown",
   "id": "e40cced4-bc4f-43dd-8a73-943c9d6b27bc",
   "metadata": {},
   "source": [
    "## TechSupport\n",
    "Whether the customer has tech support or not (Yes, No, No internet service)"
   ]
  },
  {
   "cell_type": "code",
   "execution_count": 21,
   "id": "ba97ea96-337d-41c9-ad9d-8875f14b69f0",
   "metadata": {},
   "outputs": [
    {
     "data": {
      "text/plain": [
       "No                     3473\n",
       "Yes                    2044\n",
       "No internet service    1526\n",
       "Name: TechSupport, dtype: int64"
      ]
     },
     "execution_count": 21,
     "metadata": {},
     "output_type": "execute_result"
    }
   ],
   "source": [
    "df[\"TechSupport\"].value_counts()"
   ]
  },
  {
   "cell_type": "markdown",
   "id": "1363c00c-649c-48fe-8f17-7c7708afb195",
   "metadata": {},
   "source": [
    "1. We can see that `TechSupport` has 3 unique categories\n",
    "1. Occurences and their order can be observed in the above table"
   ]
  },
  {
   "cell_type": "markdown",
   "id": "49408494-3fc6-4ff3-995f-228f35e44711",
   "metadata": {},
   "source": [
    "## StreamingTV\n",
    "Whether the customer has streaming TV or not (Yes, No, No internet service)"
   ]
  },
  {
   "cell_type": "code",
   "execution_count": 22,
   "id": "b221660c-fed5-4f8f-a9db-8d906d15dbc9",
   "metadata": {},
   "outputs": [
    {
     "data": {
      "text/plain": [
       "No                     2810\n",
       "Yes                    2707\n",
       "No internet service    1526\n",
       "Name: StreamingTV, dtype: int64"
      ]
     },
     "execution_count": 22,
     "metadata": {},
     "output_type": "execute_result"
    }
   ],
   "source": [
    "df[\"StreamingTV\"].value_counts()"
   ]
  },
  {
   "cell_type": "markdown",
   "id": "25eb924d-b937-4263-9ce4-73044d141751",
   "metadata": {},
   "source": [
    "1. We can see that `StreamingTV` has 3 unique categories\n",
    "1. Occurences and their order can be observed in the above table"
   ]
  },
  {
   "cell_type": "markdown",
   "id": "cc38e9fa-3b58-4b9a-9739-5595aaa3b3b1",
   "metadata": {},
   "source": [
    "## StreamingMovies\n",
    "Whether the customer has streaming movies or not (Yes, No, No internet service)"
   ]
  },
  {
   "cell_type": "code",
   "execution_count": 23,
   "id": "e88e56b7-6ac3-4826-aca5-c4f73f2f39b4",
   "metadata": {},
   "outputs": [
    {
     "data": {
      "text/plain": [
       "No                     2785\n",
       "Yes                    2732\n",
       "No internet service    1526\n",
       "Name: StreamingMovies, dtype: int64"
      ]
     },
     "execution_count": 23,
     "metadata": {},
     "output_type": "execute_result"
    }
   ],
   "source": [
    "df[\"StreamingMovies\"].value_counts()"
   ]
  },
  {
   "cell_type": "markdown",
   "id": "268b2283-a7c6-4955-9d05-895d5b832de7",
   "metadata": {},
   "source": [
    "1. We can see that `StreamingMovies` has 3 unique categories\n",
    "1. Occurences and their order can be observed in the above table"
   ]
  },
  {
   "cell_type": "markdown",
   "id": "da72046d-ee9c-4937-a099-1b10372ff97c",
   "metadata": {},
   "source": [
    "## Contract\n",
    "The contract term of the customer (Month-to-month, One year, Two year)"
   ]
  },
  {
   "cell_type": "code",
   "execution_count": 24,
   "id": "e4d7c6c5-1106-488e-a35b-137d68cd5595",
   "metadata": {},
   "outputs": [
    {
     "data": {
      "text/plain": [
       "Month-to-month    3875\n",
       "Two year          1695\n",
       "One year          1473\n",
       "Name: Contract, dtype: int64"
      ]
     },
     "execution_count": 24,
     "metadata": {},
     "output_type": "execute_result"
    }
   ],
   "source": [
    "df[\"Contract\"].value_counts()"
   ]
  },
  {
   "cell_type": "markdown",
   "id": "0846e1aa-e724-4872-bb66-93b171735db7",
   "metadata": {},
   "source": [
    "1. We can see that `Contract` has 3 unique categories\n",
    "1. We can see that most of the people have month to month contract\n",
    "1. People having 1 or 2 year contract are comparatively lesser"
   ]
  },
  {
   "cell_type": "markdown",
   "id": "1fdee161-2efa-4f18-9200-4961be7a83ab",
   "metadata": {},
   "source": [
    "## PaperlessBilling\n",
    "Whether the customer has paperless billing or not (Yes, No)"
   ]
  },
  {
   "cell_type": "code",
   "execution_count": 25,
   "id": "b2ed7898-ba09-4339-b40e-ff14472344f7",
   "metadata": {},
   "outputs": [
    {
     "data": {
      "text/plain": [
       "Yes    4171\n",
       "No     2872\n",
       "Name: PaperlessBilling, dtype: int64"
      ]
     },
     "execution_count": 25,
     "metadata": {},
     "output_type": "execute_result"
    }
   ],
   "source": [
    "df[\"PaperlessBilling\"].value_counts()"
   ]
  },
  {
   "cell_type": "markdown",
   "id": "d6d511c8-673c-4207-9c56-9da22429fd33",
   "metadata": {},
   "source": [
    "1. We can see that `PaperlessBilling` has a slight imbalance in distribution\n",
    "1. PaperlessBilling is a boolean variable\n",
    "1. We can see most of the customers in the dataset have PaperlessBilling"
   ]
  },
  {
   "cell_type": "markdown",
   "id": "91599458-cf42-457b-a32e-f5db2d6e201a",
   "metadata": {},
   "source": [
    "## PaymentMethod\n",
    "The customer’s payment method (Electronic check, Mailed check, Bank transfer (automatic), Credit card (automatic))"
   ]
  },
  {
   "cell_type": "code",
   "execution_count": 26,
   "id": "c4680648-9343-4beb-8c33-9dd6f503b8e3",
   "metadata": {},
   "outputs": [
    {
     "data": {
      "text/plain": [
       "Electronic check             2365\n",
       "Mailed check                 1612\n",
       "Bank transfer (automatic)    1544\n",
       "Credit card (automatic)      1522\n",
       "Name: PaymentMethod, dtype: int64"
      ]
     },
     "execution_count": 26,
     "metadata": {},
     "output_type": "execute_result"
    }
   ],
   "source": [
    "df[\"PaymentMethod\"].value_counts()"
   ]
  },
  {
   "cell_type": "markdown",
   "id": "6c74af80-e3b9-4bae-a762-2474af8b82bc",
   "metadata": {},
   "source": [
    "1. We can see that `PaymentMethod` is almost equally distributed amongst 3 categories\n",
    "1. \"Electronic check\" seems to be a bit high in occurence as compared to rest of the categories"
   ]
  },
  {
   "cell_type": "markdown",
   "id": "cd086b93-36a3-4caf-9629-9d751d7495a2",
   "metadata": {},
   "source": [
    "## MonthlyCharges\n",
    "The amount charged to the customer monthly"
   ]
  },
  {
   "cell_type": "code",
   "execution_count": 27,
   "id": "d6e85bb6-2b02-4fcd-8bc9-be5e684c00e5",
   "metadata": {},
   "outputs": [
    {
     "data": {
      "text/plain": [
       "count    7043.000000\n",
       "mean       64.761692\n",
       "std        30.090047\n",
       "min        18.250000\n",
       "25%        35.500000\n",
       "50%        70.350000\n",
       "75%        89.850000\n",
       "max       118.750000\n",
       "Name: MonthlyCharges, dtype: float64"
      ]
     },
     "execution_count": 27,
     "metadata": {},
     "output_type": "execute_result"
    }
   ],
   "source": [
    "df[\"MonthlyCharges\"].describe()"
   ]
  },
  {
   "cell_type": "code",
   "execution_count": 28,
   "id": "1103978b-dd0a-4ebd-952f-9088872d1e3e",
   "metadata": {},
   "outputs": [
    {
     "data": {
      "image/png": "[encoded data removed]",
      "text/plain": [
       "<Figure size 720x360 with 1 Axes>"
      ]
     },
     "metadata": {
      "needs_background": "light"
     },
     "output_type": "display_data"
    }
   ],
   "source": [
    "plt.figure(figsize=[10, 5])\n",
    "plt.title(\"KDE plot of MonthlyCharges\")\n",
    "sns.kdeplot(df[\"MonthlyCharges\"].values)\n",
    "plt.show()"
   ]
  },
  {
   "cell_type": "markdown",
   "id": "e513bbad-18e0-446d-8000-18c460bf64ed",
   "metadata": {},
   "source": [
    "1. We can see that MonthlyCharges distribution is slightly peaked in 2 regions\n",
    "1. peak 1 : region around 20\n",
    "1. peak 2 : region around 80"
   ]
  },
  {
   "cell_type": "markdown",
   "id": "1dc64574-c0a0-42ba-8ca4-1240e7d41d73",
   "metadata": {},
   "source": [
    "## TotalCharges\n",
    "The total amount charged to the customer"
   ]
  },
  {
   "cell_type": "code",
   "execution_count": 29,
   "id": "813d3ba8-2300-4ff0-9615-0f63d2b204b8",
   "metadata": {},
   "outputs": [
    {
     "data": {
      "text/plain": [
       "count     7043\n",
       "unique    6531\n",
       "top       20.2\n",
       "freq        11\n",
       "Name: TotalCharges, dtype: object"
      ]
     },
     "execution_count": 29,
     "metadata": {},
     "output_type": "execute_result"
    }
   ],
   "source": [
    "df[\"TotalCharges\"].describe()"
   ]
  },
  {
   "cell_type": "code",
   "execution_count": 30,
   "id": "b381f1ef-5091-421a-8b64-8fffecaef0e6",
   "metadata": {},
   "outputs": [
    {
     "data": {
      "text/plain": [
       "11"
      ]
     },
     "execution_count": 30,
     "metadata": {},
     "output_type": "execute_result"
    }
   ],
   "source": [
    "df[df[\"TotalCharges\"] == \" \"].shape[0]"
   ]
  },
  {
   "cell_type": "markdown",
   "id": "c6592a08-0da2-4abe-831b-d09f8e5f7b70",
   "metadata": {},
   "source": [
    "1. `NOTE` : the category \"top\" has missing values in the form of empty strings\n",
    "1. As the number of missing values is very less we can fill the data with mean or median\n",
    "1. In order to decide on choosing mean or median let us check the distribution of the data"
   ]
  },
  {
   "cell_type": "code",
   "execution_count": 31,
   "id": "7f01cd28-20af-4deb-9222-94f326bd77b3",
   "metadata": {},
   "outputs": [
    {
     "data": {
      "image/png": "[encoded data removed]",
      "text/plain": [
       "<Figure size 720x360 with 1 Axes>"
      ]
     },
     "metadata": {
      "needs_background": "light"
     },
     "output_type": "display_data"
    }
   ],
   "source": [
    "plt.figure(figsize=[10, 5])\n",
    "plt.title(\"box plot of TotalCharges\")\n",
    "plt.boxplot(df[\"TotalCharges\"][df[\"TotalCharges\"] != \" \"].astype(float).values)\n",
    "plt.show()"
   ]
  },
  {
   "cell_type": "markdown",
   "id": "7f302f93-6e40-4cd7-8dd1-3cb3d0fe55c2",
   "metadata": {},
   "source": [
    "1. We can see that the TotalCharges is skewed in nature\n",
    "1. Replacing `' '` i.e empty string with median of the column"
   ]
  },
  {
   "cell_type": "code",
   "execution_count": 32,
   "id": "fd91b2ac-670f-421a-8daf-adc199610956",
   "metadata": {},
   "outputs": [
    {
     "data": {
      "text/plain": [
       "1397.475"
      ]
     },
     "execution_count": 32,
     "metadata": {},
     "output_type": "execute_result"
    }
   ],
   "source": [
    "np.median(df[\"TotalCharges\"][df[\"TotalCharges\"] != \" \"].astype(float))"
   ]
  },
  {
   "cell_type": "code",
   "execution_count": 33,
   "id": "785e4e3a-409d-400f-8965-eb24e8a323a1",
   "metadata": {},
   "outputs": [],
   "source": [
    "df.loc[df[\"TotalCharges\"] == \" \", \"TotalCharges\"] = np.median(\n",
    "    df[\"TotalCharges\"][df[\"TotalCharges\"] != \" \"].astype(float)\n",
    ")"
   ]
  },
  {
   "cell_type": "code",
   "execution_count": 34,
   "id": "e6adc024-4db5-46d7-b707-b26edf2595a0",
   "metadata": {},
   "outputs": [],
   "source": [
    "df[\"TotalCharges\"] = df[\"TotalCharges\"].astype(float)"
   ]
  },
  {
   "cell_type": "code",
   "execution_count": 35,
   "id": "f2acb2d4-954c-4cc3-af74-1a8f1abb55e1",
   "metadata": {},
   "outputs": [
    {
     "data": {
      "image/png": "[encoded data removed]",
      "text/plain": [
       "<Figure size 720x360 with 1 Axes>"
      ]
     },
     "metadata": {
      "needs_background": "light"
     },
     "output_type": "display_data"
    }
   ],
   "source": [
    "plt.figure(figsize=[10, 5])\n",
    "plt.title(\"box plot of TotalCharges\")\n",
    "plt.boxplot(df[\"TotalCharges\"][df[\"TotalCharges\"] != \" \"].astype(float).values)\n",
    "plt.show()"
   ]
  },
  {
   "cell_type": "markdown",
   "id": "945e5465-9d6c-451d-9458-463724d6c525",
   "metadata": {},
   "source": [
    "Rechecking the distribution, we can see it has not changed much from the actual distribution"
   ]
  },
  {
   "cell_type": "markdown",
   "id": "0b832c11-c6b1-405b-8633-79aec69202c7",
   "metadata": {},
   "source": [
    "1. We can see that MonthlyCharges distribution is slightly peaked in 2 regions\n",
    "1. peak 1 : region around 20\n",
    "1. peak 2 : region around 80"
   ]
  },
  {
   "cell_type": "markdown",
   "id": "c8c5eb7b-1430-49af-9b18-6422c76775d5",
   "metadata": {},
   "source": [
    "## Churn\n",
    "Whether the customer churned or not (Yes or No)"
   ]
  },
  {
   "cell_type": "code",
   "execution_count": 36,
   "id": "736a5cdd-06c2-4d74-abcd-fab114b2d8a8",
   "metadata": {},
   "outputs": [
    {
     "data": {
      "text/plain": [
       "No     5174\n",
       "Yes    1869\n",
       "Name: Churn, dtype: int64"
      ]
     },
     "execution_count": 36,
     "metadata": {},
     "output_type": "execute_result"
    }
   ],
   "source": [
    "df[\"Churn\"].value_counts()"
   ]
  },
  {
   "cell_type": "code",
   "execution_count": 37,
   "id": "01101785-d7f9-44c9-8cf4-14068043bf1c",
   "metadata": {},
   "outputs": [
    {
     "data": {
      "image/png": "[encoded data removed]",
      "text/plain": [
       "<Figure size 648x504 with 1 Axes>"
      ]
     },
     "metadata": {
      "needs_background": "light"
     },
     "output_type": "display_data"
    }
   ],
   "source": [
    "_ = (\n",
    "    df[\"Churn\"]\n",
    "    .value_counts()\n",
    "    .reset_index()\n",
    "    .rename(columns={\"index\": \"Churn\", \"Churn\": \"counts\"})\n",
    ").head(10)\n",
    "\n",
    "plt.figure(figsize=[9, 7])\n",
    "plt.title(f\"Bar plot of Churn counts\")\n",
    "ax = sns.barplot(x=\"Churn\", y=\"counts\", data=_,)\n",
    "plt.grid()\n",
    "plt.show()"
   ]
  },
  {
   "cell_type": "markdown",
   "id": "e51416cf-d6cb-433a-8635-fc6f83d113dc",
   "metadata": {},
   "source": [
    "1. We can see that there is imbalance between distribution of `Churn`"
   ]
  },
  {
   "cell_type": "code",
   "execution_count": 38,
   "id": "b11ac0bd-a07f-4025-abbb-0b9a57a325a7",
   "metadata": {},
   "outputs": [],
   "source": [
    "os.makedirs(\"../data/cleaned/\", exist_ok=True)"
   ]
  },
  {
   "cell_type": "code",
   "execution_count": 39,
   "id": "64897486-ec83-46ac-b0f8-743ae36127db",
   "metadata": {},
   "outputs": [],
   "source": [
    "df.to_parquet(\"../data/cleaned/telcom-churn.parquet\")"
   ]
  },
  {
   "cell_type": "markdown",
   "id": "03eec7f8-7f6b-4900-8967-a85a2cf929b1",
   "metadata": {},
   "source": [
    "# column describe"
   ]
  },
  {
   "cell_type": "markdown",
   "id": "548e5840-5cbb-472d-ab07-845f1ded1369",
   "metadata": {},
   "source": [
    "Based on monovariate analysis we can create a feature dictionary describing types of variable we will encounter in further pipelines"
   ]
  },
  {
   "cell_type": "code",
   "execution_count": 40,
   "id": "4028f49c-e34b-440a-bd32-959dfa196d89",
   "metadata": {},
   "outputs": [],
   "source": [
    "os.makedirs(\"../data/feature-meta/cleaned/\", exist_ok=True)"
   ]
  },
  {
   "cell_type": "code",
   "execution_count": 41,
   "id": "664c90a6-3b1e-4778-9e81-37133041d36a",
   "metadata": {},
   "outputs": [],
   "source": [
    "d = {\n",
    "    \"customerID\": {\"is_raw\": True, \"type\": \"ID\"},\n",
    "    \"gender\": {\"is_raw\": True, \"var_type\": \"boolean\", \"value_type\": \"text\"},\n",
    "    \"SeniorCitizen\": {\"is_raw\": True, \"var_type\": \"boolean\", \"value_type\": \"numeric\"},\n",
    "    \"Partner\": {\"is_raw\": True, \"var_type\": \"boolean\", \"value_type\": \"text\"},\n",
    "    \"Dependents\": {\"is_raw\": True, \"var_type\": \"boolean\", \"value_type\": \"text\"},\n",
    "    \"tenure\": {\"is_raw\": True, \"var_type\": \"real\", \"value_type\": \"numeric\"},\n",
    "    \"PhoneService\": {\"is_raw\": True, \"var_type\": \"boolean\", \"value_type\": \"text\"},\n",
    "    \"MultipleLines\": {\"is_raw\": True, \"var_type\": \"categorical\", \"value_type\": \"text\"},\n",
    "    \"InternetService\": {\n",
    "        \"is_raw\": True,\n",
    "        \"var_type\": \"categorical\",\n",
    "        \"value_type\": \"text\",\n",
    "    },\n",
    "    \"OnlineSecurity\": {\"is_raw\": True, \"var_type\": \"categorical\", \"value_type\": \"text\"},\n",
    "    \"OnlineBackup\": {\"is_raw\": True, \"var_type\": \"categorical\", \"value_type\": \"text\"},\n",
    "    \"DeviceProtection\": {\n",
    "        \"is_raw\": True,\n",
    "        \"var_type\": \"categorical\",\n",
    "        \"value_type\": \"text\",\n",
    "    },\n",
    "    \"TechSupport\": {\"is_raw\": True, \"var_type\": \"categorical\", \"value_type\": \"text\"},\n",
    "    \"StreamingTV\": {\"is_raw\": True, \"var_type\": \"categorical\", \"value_type\": \"text\"},\n",
    "    \"StreamingMovies\": {\n",
    "        \"is_raw\": True,\n",
    "        \"var_type\": \"categorical\",\n",
    "        \"value_type\": \"text\",\n",
    "    },\n",
    "    \"Contract\": {\"is_raw\": True, \"var_type\": \"categorical\", \"value_type\": \"text\"},\n",
    "    \"PaperlessBilling\": {\"is_raw\": True, \"var_type\": \"boolean\", \"value_type\": \"text\"},\n",
    "    \"PaymentMethod\": {\"is_raw\": True, \"var_type\": \"categorical\", \"value_type\": \"text\"},\n",
    "    \"MonthlyCharges\": {\"is_raw\": True, \"var_type\": \"real\", \"value_type\": \"numeric\"},\n",
    "    \"TotalCharges\": {\n",
    "        \"is_raw\": True,\n",
    "        \"var_type\": \"real\",\n",
    "        \"value_type\": \"numeric\",\n",
    "        \"cleaned\": True,\n",
    "    },\n",
    "    \"Churn\": {\"is_raw\": True, \"var_type\": \"categorical\", \"value_type\": \"boolean\",},\n",
    "}"
   ]
  },
  {
   "cell_type": "code",
   "execution_count": 42,
   "id": "7bc2e6a6-d22c-4bae-8ca0-66e44c6e3335",
   "metadata": {},
   "outputs": [],
   "source": [
    "import json\n",
    "\n",
    "with open(\"../data/feature-meta/cleaned/meta.json\", \"w\") as f:\n",
    "    json.dump(d, f, indent=2)"
   ]
  }
 ],
 "metadata": {
  "kernelspec": {
   "display_name": "Python 3",
   "language": "python",
   "name": "python3"
  },
  "language_info": {
   "codemirror_mode": {
    "name": "ipython",
    "version": 3
   },
   "file_extension": ".py",
   "mimetype": "text/x-python",
   "name": "python",
   "nbconvert_exporter": "python",
   "pygments_lexer": "ipython3",
   "version": "3.8.5"
  },
  "toc-autonumbering": true,
  "toc-showcode": false
 },
 "nbformat": 4,
 "nbformat_minor": 5
}
