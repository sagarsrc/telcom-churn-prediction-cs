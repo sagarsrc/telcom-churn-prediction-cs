{
 "cells": [
  {
   "cell_type": "code",
   "execution_count": 1,
   "id": "e751e52d-652d-467c-96ab-dc751f0ad789",
   "metadata": {},
   "outputs": [],
   "source": [
    "import json\n",
    "import os\n",
    "import random\n",
    "from datetime import datetime, timedelta\n",
    "\n",
    "import joblib\n",
    "import matplotlib.pyplot as plt\n",
    "import numpy as np\n",
    "import pandas as pd\n",
    "import seaborn as sns\n",
    "from sklearn.ensemble import RandomForestRegressor\n",
    "from sklearn.metrics import confusion_matrix, mean_squared_error\n",
    "from sklearn.model_selection import GridSearchCV, TimeSeriesSplit, train_test_split\n",
    "from sklearn.preprocessing import LabelBinarizer\n",
    "from sklearn.utils.class_weight import compute_class_weight\n",
    "\n",
    "pd.options.mode.chained_assignment = None"
   ]
  },
  {
   "cell_type": "markdown",
   "id": "edf14037-6f6a-4083-b5b9-8b4a76bcbdc8",
   "metadata": {},
   "source": [
    "# load data"
   ]
  },
  {
   "cell_type": "code",
   "execution_count": 2,
   "id": "34b2e7cc-c0fa-4f55-965c-2e0756e48d5b",
   "metadata": {},
   "outputs": [],
   "source": [
    "x_train = pd.read_parquet(\"../data/selected_features_regression/x_train/data.parquet\")\n",
    "x_cv = pd.read_parquet(\"../data/selected_features_regression/x_cv/data.parquet\")\n",
    "x_test = pd.read_parquet(\"../data/selected_features_regression/x_test/data.parquet\")\n",
    "\n",
    "y_train = pd.read_parquet(\"../data/selected_features_regression/y_train/data.parquet\")[\n",
    "    \"tenure\"\n",
    "]\n",
    "y_cv = pd.read_parquet(\"../data/selected_features_regression/y_cv/data.parquet\")[\n",
    "    \"tenure\"\n",
    "]\n",
    "y_test = pd.read_parquet(\"../data/selected_features_regression/y_test/data.parquet\")[\n",
    "    \"tenure\"\n",
    "]\n",
    "\n",
    "x_train = pd.concat([x_train, x_cv])\n",
    "y_train = pd.concat([y_train, y_cv])"
   ]
  },
  {
   "cell_type": "code",
   "execution_count": 3,
   "id": "6b32f70e-071e-4eb4-9c34-2bbe299bd656",
   "metadata": {},
   "outputs": [
    {
     "data": {
      "image/png": "[encoded data removed]",
      "text/plain": [
       "<Figure size 432x288 with 1 Axes>"
      ]
     },
     "metadata": {
      "needs_background": "light"
     },
     "output_type": "display_data"
    }
   ],
   "source": [
    "plt.figure()\n",
    "plt.title(f\"tenure distribution train test\")\n",
    "plt.hist(y_train)\n",
    "plt.hist(y_test)\n",
    "plt.legend([\"train\", \"test\"])\n",
    "plt.show()"
   ]
  },
  {
   "cell_type": "markdown",
   "id": "0613aa8a-5653-406d-90e8-c16c1283aa8b",
   "metadata": {},
   "source": [
    "# Random model"
   ]
  },
  {
   "cell_type": "code",
   "execution_count": 7,
   "id": "654d6bb6-e3de-4253-a4f2-d4799126be3a",
   "metadata": {},
   "outputs": [],
   "source": [
    "rmin, rmax = y_train.min(), y_train.max()\n",
    "\n",
    "# random uniform predictions\n",
    "y_pred_random_train = np.random.randint(rmin, rmax, size=len(y_train))\n",
    "y_pred_random_test = np.random.randint(rmin, rmax, size=len(y_test))\n",
    "\n",
    "# metrics train\n",
    "mse_random_train = mean_squared_error(y_train, y_pred_random_train)\n",
    "rmse_random_train = mean_squared_error(y_train, y_pred_random_train, squared=False)\n",
    "\n",
    "# metrics test\n",
    "mse_random_test = mean_squared_error(y_test, y_pred_random_test)\n",
    "rmse_random_test = mean_squared_error(y_test, y_pred_random_test, squared=False)"
   ]
  },
  {
   "cell_type": "code",
   "execution_count": 13,
   "id": "a374d456-5fbe-4835-8148-c61cf0d4b70a",
   "metadata": {},
   "outputs": [
    {
     "name": "stdout",
     "output_type": "stream",
     "text": [
      "mse random train 1040.1703940362088\n",
      "rmse random train 32.25167273237481\n",
      "\n",
      "mse random test 1025.5500354861604\n",
      "rmse random test 32.024210146171605\n"
     ]
    }
   ],
   "source": [
    "print(f\"mse random train {mse_random_train}\")\n",
    "print(f\"rmse random train {rmse_random_train}\")\n",
    "print()\n",
    "print(f\"mse random test {mse_random_test}\")\n",
    "print(f\"rmse random test {rmse_random_test}\")"
   ]
  },
  {
   "cell_type": "markdown",
   "id": "60f704df-9ba3-4199-9eb1-86b145f71ef7",
   "metadata": {},
   "source": [
    "# Time series split"
   ]
  },
  {
   "cell_type": "code",
   "execution_count": 15,
   "id": "36fbb2e3-fb48-49cb-b019-b81e810b4b70",
   "metadata": {},
   "outputs": [
    {
     "data": {
      "text/plain": [
       "Index(['TotalCharges', 'MonthlyCharges', 'Contract_0', 'Contract_1',\n",
       "       'InternetService_1', 'InternetService_0'],\n",
       "      dtype='object')"
      ]
     },
     "execution_count": 15,
     "metadata": {},
     "output_type": "execute_result"
    }
   ],
   "source": [
    "x_train.columns"
   ]
  },
  {
   "cell_type": "code",
   "execution_count": 16,
   "id": "6cc0a1f2-e079-49f2-9fa3-c50008d0bdc1",
   "metadata": {},
   "outputs": [
    {
     "data": {
      "text/plain": [
       "TimeSeriesSplit(max_train_size=None, n_splits=10)"
      ]
     },
     "execution_count": 16,
     "metadata": {},
     "output_type": "execute_result"
    }
   ],
   "source": [
    "tscv = TimeSeriesSplit(n_splits=10)\n",
    "tscv"
   ]
  },
  {
   "cell_type": "markdown",
   "id": "d9cf635e-5dba-4841-aeaf-fa632a91411a",
   "metadata": {},
   "source": [
    "# Training Random Forest Model"
   ]
  },
  {
   "cell_type": "markdown",
   "id": "69b6d633-770b-4ae3-b2e9-576d692fe54f",
   "metadata": {},
   "source": [
    "## tuning num_estimators"
   ]
  },
  {
   "cell_type": "code",
   "execution_count": 17,
   "id": "2135024b-f2a4-4d3b-9682-8c9dcdc610e2",
   "metadata": {},
   "outputs": [
    {
     "name": "stdout",
     "output_type": "stream",
     "text": [
      "num_estimators 20\n",
      "num_estimators 30\n",
      "num_estimators 40\n",
      "num_estimators 50\n",
      "num_estimators 60\n",
      "num_estimators 70\n",
      "num_estimators 100\n",
      "num_estimators 150\n",
      "num_estimators 200\n",
      "num_estimators 250\n",
      "num_estimators 300\n",
      "num_estimators 400\n",
      "num_estimators 450\n",
      "num_estimators 500\n"
     ]
    }
   ],
   "source": [
    "num_estimators_list = [20, 30, 40, 50, 60, 70, 100, 150, 200, 250, 300, 400, 450, 500]\n",
    "\n",
    "tscv_loss_dict = {}\n",
    "for ix, ne in enumerate(num_estimators_list):\n",
    "    print(f\"num_estimators {ne}\")\n",
    "\n",
    "    tscv_loss_list = []\n",
    "\n",
    "    for train_index, cv_index in tscv.split(x_train):\n",
    "\n",
    "        # get data for cv ready\n",
    "        x_train_req = x_train.iloc[train_index]\n",
    "        x_cv_req = x_train.iloc[cv_index]\n",
    "\n",
    "        y_train_req = y_train.iloc[train_index]\n",
    "        y_cv_req = y_train.iloc[cv_index]\n",
    "\n",
    "        # print(f\"len_train {len(train_index)}, len_cv {len(cv_index)}\")\n",
    "        clf = RandomForestRegressor(n_estimators=ne,)\n",
    "        clf.fit(x_train_req, y_train_req)\n",
    "\n",
    "        # get log los train\n",
    "        y_pred_train_mse = clf.predict(x_train_req)\n",
    "        mse_train = mean_squared_error(y_train_req, y_pred_train_mse)\n",
    "        rmse_train = mean_squared_error(y_train_req, y_pred_train_mse, squared=False)\n",
    "\n",
    "        # get log los cv set\n",
    "        y_pred_val_mse = clf.predict(x_cv_req)\n",
    "        mse_cv = mean_squared_error(y_cv_req, y_pred_val_mse)\n",
    "        rmse_cv = mean_squared_error(y_cv_req, y_pred_val_mse, squared=False)\n",
    "\n",
    "        tscv_loss_list.append(\n",
    "            {\n",
    "                \"mse_train\": mse_train,\n",
    "                \"rmse_train\": rmse_train,\n",
    "                \"mse_cv\": mse_cv,\n",
    "                \"rmse_cv\": rmse_cv,\n",
    "            }\n",
    "        )\n",
    "\n",
    "    tscv_loss_dict[ix] = tscv_loss_list"
   ]
  },
  {
   "cell_type": "code",
   "execution_count": 24,
   "id": "edd0678d-8751-463f-9a9b-39321f1a01d5",
   "metadata": {},
   "outputs": [
    {
     "data": {
      "text/html": [
       "<div>\n",
       "<style scoped>\n",
       "    .dataframe tbody tr th:only-of-type {\n",
       "        vertical-align: middle;\n",
       "    }\n",
       "\n",
       "    .dataframe tbody tr th {\n",
       "        vertical-align: top;\n",
       "    }\n",
       "\n",
       "    .dataframe thead th {\n",
       "        text-align: right;\n",
       "    }\n",
       "</style>\n",
       "<table border=\"1\" class=\"dataframe\">\n",
       "  <thead>\n",
       "    <tr style=\"text-align: right;\">\n",
       "      <th></th>\n",
       "      <th>iteration</th>\n",
       "      <th>mse_train</th>\n",
       "      <th>mse_cv</th>\n",
       "      <th>rmse_train</th>\n",
       "      <th>rmse_cv</th>\n",
       "      <th>num_estimators</th>\n",
       "    </tr>\n",
       "  </thead>\n",
       "  <tbody>\n",
       "    <tr>\n",
       "      <th>0</th>\n",
       "      <td>0</td>\n",
       "      <td>0.940517</td>\n",
       "      <td>5.033036</td>\n",
       "      <td>0.954058</td>\n",
       "      <td>2.084008</td>\n",
       "      <td>20</td>\n",
       "    </tr>\n",
       "    <tr>\n",
       "      <th>1</th>\n",
       "      <td>1</td>\n",
       "      <td>0.923885</td>\n",
       "      <td>4.863732</td>\n",
       "      <td>0.947620</td>\n",
       "      <td>2.056762</td>\n",
       "      <td>30</td>\n",
       "    </tr>\n",
       "    <tr>\n",
       "      <th>2</th>\n",
       "      <td>2</td>\n",
       "      <td>0.851606</td>\n",
       "      <td>4.898051</td>\n",
       "      <td>0.912836</td>\n",
       "      <td>2.069567</td>\n",
       "      <td>40</td>\n",
       "    </tr>\n",
       "    <tr>\n",
       "      <th>3</th>\n",
       "      <td>3</td>\n",
       "      <td>0.841384</td>\n",
       "      <td>4.838754</td>\n",
       "      <td>0.904581</td>\n",
       "      <td>2.059965</td>\n",
       "      <td>50</td>\n",
       "    </tr>\n",
       "    <tr>\n",
       "      <th>4</th>\n",
       "      <td>4</td>\n",
       "      <td>0.768746</td>\n",
       "      <td>5.049761</td>\n",
       "      <td>0.868814</td>\n",
       "      <td>2.106409</td>\n",
       "      <td>60</td>\n",
       "    </tr>\n",
       "    <tr>\n",
       "      <th>5</th>\n",
       "      <td>5</td>\n",
       "      <td>0.833360</td>\n",
       "      <td>4.963808</td>\n",
       "      <td>0.902918</td>\n",
       "      <td>2.059240</td>\n",
       "      <td>70</td>\n",
       "    </tr>\n",
       "    <tr>\n",
       "      <th>6</th>\n",
       "      <td>6</td>\n",
       "      <td>0.811941</td>\n",
       "      <td>4.957029</td>\n",
       "      <td>0.891037</td>\n",
       "      <td>2.072705</td>\n",
       "      <td>100</td>\n",
       "    </tr>\n",
       "    <tr>\n",
       "      <th>7</th>\n",
       "      <td>7</td>\n",
       "      <td>0.791771</td>\n",
       "      <td>4.833586</td>\n",
       "      <td>0.879345</td>\n",
       "      <td>2.049654</td>\n",
       "      <td>150</td>\n",
       "    </tr>\n",
       "    <tr>\n",
       "      <th>8</th>\n",
       "      <td>8</td>\n",
       "      <td>0.787533</td>\n",
       "      <td>5.010157</td>\n",
       "      <td>0.877973</td>\n",
       "      <td>2.073141</td>\n",
       "      <td>200</td>\n",
       "    </tr>\n",
       "    <tr>\n",
       "      <th>9</th>\n",
       "      <td>9</td>\n",
       "      <td>0.788419</td>\n",
       "      <td>4.834286</td>\n",
       "      <td>0.877759</td>\n",
       "      <td>2.042037</td>\n",
       "      <td>250</td>\n",
       "    </tr>\n",
       "    <tr>\n",
       "      <th>10</th>\n",
       "      <td>10</td>\n",
       "      <td>0.761655</td>\n",
       "      <td>4.789275</td>\n",
       "      <td>0.863600</td>\n",
       "      <td>2.041035</td>\n",
       "      <td>300</td>\n",
       "    </tr>\n",
       "    <tr>\n",
       "      <th>11</th>\n",
       "      <td>11</td>\n",
       "      <td>0.776508</td>\n",
       "      <td>4.749957</td>\n",
       "      <td>0.871933</td>\n",
       "      <td>2.030812</td>\n",
       "      <td>400</td>\n",
       "    </tr>\n",
       "    <tr>\n",
       "      <th>12</th>\n",
       "      <td>12</td>\n",
       "      <td>0.783758</td>\n",
       "      <td>4.875273</td>\n",
       "      <td>0.876088</td>\n",
       "      <td>2.051731</td>\n",
       "      <td>450</td>\n",
       "    </tr>\n",
       "    <tr>\n",
       "      <th>13</th>\n",
       "      <td>13</td>\n",
       "      <td>0.748921</td>\n",
       "      <td>4.900557</td>\n",
       "      <td>0.856850</td>\n",
       "      <td>2.058531</td>\n",
       "      <td>500</td>\n",
       "    </tr>\n",
       "  </tbody>\n",
       "</table>\n",
       "</div>"
      ],
      "text/plain": [
       "    iteration  mse_train    mse_cv  rmse_train   rmse_cv  num_estimators\n",
       "0           0   0.940517  5.033036    0.954058  2.084008              20\n",
       "1           1   0.923885  4.863732    0.947620  2.056762              30\n",
       "2           2   0.851606  4.898051    0.912836  2.069567              40\n",
       "3           3   0.841384  4.838754    0.904581  2.059965              50\n",
       "4           4   0.768746  5.049761    0.868814  2.106409              60\n",
       "5           5   0.833360  4.963808    0.902918  2.059240              70\n",
       "6           6   0.811941  4.957029    0.891037  2.072705             100\n",
       "7           7   0.791771  4.833586    0.879345  2.049654             150\n",
       "8           8   0.787533  5.010157    0.877973  2.073141             200\n",
       "9           9   0.788419  4.834286    0.877759  2.042037             250\n",
       "10         10   0.761655  4.789275    0.863600  2.041035             300\n",
       "11         11   0.776508  4.749957    0.871933  2.030812             400\n",
       "12         12   0.783758  4.875273    0.876088  2.051731             450\n",
       "13         13   0.748921  4.900557    0.856850  2.058531             500"
      ]
     },
     "execution_count": 24,
     "metadata": {},
     "output_type": "execute_result"
    }
   ],
   "source": [
    "df_tscv = pd.DataFrame(tscv_loss_dict.items()).rename(\n",
    "    columns={0: \"iteration\", 1: \"losses\"}\n",
    ")\n",
    "\n",
    "df_tscv[\"mse_train\"] = df_tscv[\"losses\"].apply(\n",
    "    lambda x: np.mean([i[\"mse_train\"] for i in x])\n",
    ")\n",
    "df_tscv[\"rmse_train\"] = df_tscv[\"losses\"].apply(\n",
    "    lambda x: np.mean([i[\"rmse_train\"] for i in x])\n",
    ")\n",
    "df_tscv[\"mse_cv\"] = df_tscv[\"losses\"].apply(lambda x: np.mean([i[\"mse_cv\"] for i in x]))\n",
    "df_tscv[\"rmse_cv\"] = df_tscv[\"losses\"].apply(\n",
    "    lambda x: np.mean([i[\"rmse_cv\"] for i in x])\n",
    ")\n",
    "\n",
    "\n",
    "df_tscv[\"num_estimators\"] = num_estimators_list\n",
    "df_tscv = df_tscv.drop(columns=[\"losses\"])[\n",
    "    [\"iteration\", \"mse_train\", \"mse_cv\", \"rmse_train\", \"rmse_cv\", \"num_estimators\"]\n",
    "]\n",
    "df_tscv"
   ]
  },
  {
   "cell_type": "code",
   "execution_count": 26,
   "id": "f8e9de80-5960-4d83-b4b4-ac33b9bbaca9",
   "metadata": {},
   "outputs": [
    {
     "data": {
      "image/png": "[encoded data removed]",
      "text/plain": [
       "<Figure size 700x600 with 1 Axes>"
      ]
     },
     "metadata": {
      "needs_background": "light"
     },
     "output_type": "display_data"
    }
   ],
   "source": [
    "plt.figure(figsize=[7, 6], dpi=100)\n",
    "plt.title(f\"MSE (Y) and num_estimators (X)\")\n",
    "sns.lineplot(y=\"mse_train\", x=\"num_estimators\", data=df_tscv)\n",
    "sns.lineplot(y=\"mse_cv\", x=\"num_estimators\", data=df_tscv)\n",
    "\n",
    "plt.legend([\"train\", \"cv\"])\n",
    "plt.grid()"
   ]
  },
  {
   "cell_type": "code",
   "execution_count": 27,
   "id": "de5406c0-dcdf-4c0d-bc7d-25557831e8be",
   "metadata": {},
   "outputs": [
    {
     "data": {
      "image/png": "[encoded data removed]",
      "text/plain": [
       "<Figure size 700x600 with 1 Axes>"
      ]
     },
     "metadata": {
      "needs_background": "light"
     },
     "output_type": "display_data"
    }
   ],
   "source": [
    "plt.figure(figsize=[7, 6], dpi=100)\n",
    "plt.title(f\"RMSE (Y) and num_estimators (X)\")\n",
    "sns.lineplot(y=\"rmse_train\", x=\"num_estimators\", data=df_tscv)\n",
    "sns.lineplot(y=\"rmse_cv\", x=\"num_estimators\", data=df_tscv)\n",
    "\n",
    "plt.legend([\"train\", \"cv\"])\n",
    "plt.grid()"
   ]
  },
  {
   "cell_type": "markdown",
   "id": "f67eaeb1-f853-4a9c-82fe-adeba44e18d6",
   "metadata": {},
   "source": [
    "Using `n_estimators = 150` as best param"
   ]
  },
  {
   "cell_type": "markdown",
   "id": "5522115f-a923-445b-bc17-9b1e9ab1c9a8",
   "metadata": {},
   "source": [
    "## re-train with best num_estimators"
   ]
  },
  {
   "cell_type": "code",
   "execution_count": 29,
   "id": "e8e9485f-9873-4933-a673-708e49c20007",
   "metadata": {},
   "outputs": [],
   "source": [
    "x_train = pd.read_parquet(\"../data/selected_features_regression/x_train/data.parquet\")\n",
    "x_cv = pd.read_parquet(\"../data/selected_features_regression/x_cv/data.parquet\")\n",
    "x_test = pd.read_parquet(\"../data/selected_features_regression/x_test/data.parquet\")\n",
    "\n",
    "y_train = pd.read_parquet(\"../data/selected_features_regression/y_train/data.parquet\")[\n",
    "    \"tenure\"\n",
    "]\n",
    "y_cv = pd.read_parquet(\"../data/selected_features_regression/y_cv/data.parquet\")[\n",
    "    \"tenure\"\n",
    "]\n",
    "y_test = pd.read_parquet(\"../data/selected_features_regression/y_test/data.parquet\")[\n",
    "    \"tenure\"\n",
    "]\n",
    "\n",
    "x_train = pd.concat([x_train, x_cv])\n",
    "y_train = pd.concat([y_train, y_cv])"
   ]
  },
  {
   "cell_type": "code",
   "execution_count": 30,
   "id": "ec2911fd-cace-4b8b-b95a-3667e7bd0912",
   "metadata": {},
   "outputs": [],
   "source": [
    "clf = RandomForestRegressor(n_estimators=150)\n",
    "clf.fit(x_train, y_train)\n",
    "\n",
    "y_pred_train = clf.predict(x_train)\n",
    "y_pred_test = clf.predict(x_test)"
   ]
  },
  {
   "cell_type": "markdown",
   "id": "feb3e8e2-17e3-42bc-9c5e-ed7925caebed",
   "metadata": {},
   "source": [
    "## Check mse"
   ]
  },
  {
   "cell_type": "code",
   "execution_count": 17,
   "id": "588cf3ca-75e3-4211-91ba-84279ad946fb",
   "metadata": {},
   "outputs": [
    {
     "name": "stdout",
     "output_type": "stream",
     "text": [
      "mse train 0.43859250976215824\n",
      "mse test 5.557558339247693\n"
     ]
    }
   ],
   "source": [
    "mean_squared_error_train = mean_squared_error(y_train, y_pred_train)\n",
    "mean_squared_error_test = mean_squared_error(y_test, y_pred_test)\n",
    "\n",
    "print(f\"mse train {mean_squared_error_train}\")\n",
    "print(f\"mse test {mean_squared_error_test}\")"
   ]
  },
  {
   "cell_type": "code",
   "execution_count": 32,
   "id": "30da0e42-8d0e-4689-83c6-e7766a28c6a9",
   "metadata": {},
   "outputs": [
    {
     "name": "stdout",
     "output_type": "stream",
     "text": [
      "rmse train 0.6793420730317402\n",
      "rmse test 2.359758127034597\n"
     ]
    }
   ],
   "source": [
    "root_mean_squared_error_train = mean_squared_error(y_train, y_pred_train, squared=False)\n",
    "root_mean_squared_error_test = mean_squared_error(y_test, y_pred_test, squared=False)\n",
    "\n",
    "print(f\"rmse train {root_mean_squared_error_train}\")\n",
    "print(f\"rmse test {root_mean_squared_error_test}\")"
   ]
  },
  {
   "cell_type": "markdown",
   "id": "507bffd2-0af3-4abc-aea5-78ff6e775e31",
   "metadata": {},
   "source": [
    "1. rmse of random model was around -> 32\n",
    "1. After training random forest we are getting rmse around -> 2\n",
    "1. It is almost 16 times better than random model"
   ]
  },
  {
   "cell_type": "markdown",
   "id": "47c3459b-3993-451e-b6d5-9d6d792adb7f",
   "metadata": {},
   "source": [
    "# Fine tuning Random Forest Model"
   ]
  },
  {
   "cell_type": "code",
   "execution_count": 33,
   "id": "e7be0657-80cf-4a13-927e-4d3eab9a11ef",
   "metadata": {},
   "outputs": [
    {
     "name": "stderr",
     "output_type": "stream",
     "text": [
      "UsageError: Line magic function `%%time` not found.\n"
     ]
    }
   ],
   "source": [
    "# using best n_estimators got from training\n",
    "\n",
    "clf = RandomForestRegressor(n_estimators=150)\n",
    "\n",
    "\n",
    "param_grid = {\n",
    "    \"max_depth\": [100, 200, 300, None],\n",
    "    \"min_samples_split\": [2, 3, 4],\n",
    "    \"min_samples_leaf\": [1, 2, 3, 4, 5],\n",
    "}\n",
    "\n",
    "grid_search_clf = GridSearchCV(\n",
    "    estimator=clf,\n",
    "    param_grid=param_grid,\n",
    "    cv=None,\n",
    "    refit=True,\n",
    "    scoring=\"neg_mean_squared_error\",\n",
    ")\n",
    "grid_search_clf.fit(x_train, y_train)\n",
    "\n",
    "%time"
   ]
  },
  {
   "cell_type": "code",
   "execution_count": 34,
   "id": "dced645a-df19-497a-bf16-190d8a9b52d2",
   "metadata": {},
   "outputs": [
    {
     "data": {
      "text/plain": [
       "{'max_depth': 200, 'min_samples_leaf': 2, 'min_samples_split': 2}"
      ]
     },
     "execution_count": 34,
     "metadata": {},
     "output_type": "execute_result"
    }
   ],
   "source": [
    "grid_search_clf.best_params_"
   ]
  },
  {
   "cell_type": "code",
   "execution_count": 35,
   "id": "e1b29030-cc8c-488a-84e0-9c9216bdc1eb",
   "metadata": {},
   "outputs": [],
   "source": [
    "y_pred_train = grid_search_clf.predict(x_train)\n",
    "y_pred_test = grid_search_clf.predict(x_test)"
   ]
  },
  {
   "cell_type": "markdown",
   "id": "3cf62b94-c719-4ae1-8b9e-ed784a403346",
   "metadata": {},
   "source": [
    "## Check mse"
   ]
  },
  {
   "cell_type": "code",
   "execution_count": 36,
   "id": "e76feda6-0a65-4878-bfd6-dd5b70a387e3",
   "metadata": {},
   "outputs": [
    {
     "name": "stdout",
     "output_type": "stream",
     "text": [
      "mse train 0.7325228079247196\n",
      "mse test 5.534180644743874\n"
     ]
    }
   ],
   "source": [
    "mean_squared_error_train = mean_squared_error(y_train, y_pred_train)\n",
    "mean_squared_error_test = mean_squared_error(y_test, y_pred_test)\n",
    "\n",
    "print(f\"mse train {mean_squared_error_train}\")\n",
    "print(f\"mse test {mean_squared_error_test}\")"
   ]
  },
  {
   "cell_type": "code",
   "execution_count": 38,
   "id": "761f0123-785b-4e34-be03-21ff698e9e6d",
   "metadata": {},
   "outputs": [
    {
     "name": "stdout",
     "output_type": "stream",
     "text": [
      "rmse train 0.8558754628593576\n",
      "rmse test 2.3524839308152297\n"
     ]
    }
   ],
   "source": [
    "root_mean_squared_error_train = mean_squared_error(y_train, y_pred_train, squared=False)\n",
    "root_mean_squared_error_test = mean_squared_error(y_test, y_pred_test, squared=False)\n",
    "\n",
    "print(f\"rmse train {root_mean_squared_error_train}\")\n",
    "print(f\"rmse test {root_mean_squared_error_test}\")"
   ]
  },
  {
   "cell_type": "markdown",
   "id": "ef072f6b-d1c4-445a-89e7-25ec5e88ed94",
   "metadata": {},
   "source": [
    "1. There is no much difference seen in rmse after fine tuning\n",
    "1. rmse has reduced by as very small margin"
   ]
  },
  {
   "cell_type": "markdown",
   "id": "78edf5f7-e57a-4ca9-bdac-07c3a464ea0e",
   "metadata": {},
   "source": [
    "# Save model"
   ]
  },
  {
   "cell_type": "code",
   "execution_count": 27,
   "id": "e063ef45-0c42-4034-8443-5e27c24029a7",
   "metadata": {},
   "outputs": [],
   "source": [
    "os.makedirs(\"../data/models/reg/random_forest/\", exist_ok=True)"
   ]
  },
  {
   "cell_type": "code",
   "execution_count": 29,
   "id": "f9c40199-3068-48e2-8da7-4448a55eebc3",
   "metadata": {},
   "outputs": [
    {
     "data": {
      "text/plain": [
       "['../data/models/reg/random_forest/rf_model.pkl']"
      ]
     },
     "execution_count": 29,
     "metadata": {},
     "output_type": "execute_result"
    }
   ],
   "source": [
    "joblib.dump(\n",
    "    grid_search_clf.best_estimator_, \"../data/models/reg/random_forest/rf_model.pkl\"\n",
    ")"
   ]
  }
 ],
 "metadata": {
  "kernelspec": {
   "display_name": "Python 3",
   "language": "python",
   "name": "python3"
  },
  "language_info": {
   "codemirror_mode": {
    "name": "ipython",
    "version": 3
   },
   "file_extension": ".py",
   "mimetype": "text/x-python",
   "name": "python",
   "nbconvert_exporter": "python",
   "pygments_lexer": "ipython3",
   "version": "3.8.5"
  },
  "toc-autonumbering": true
 },
 "nbformat": 4,
 "nbformat_minor": 5
}
