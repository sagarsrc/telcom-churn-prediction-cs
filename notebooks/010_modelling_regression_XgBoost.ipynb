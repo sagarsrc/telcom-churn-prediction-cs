{
 "cells": [
  {
   "cell_type": "code",
   "execution_count": 1,
   "id": "e751e52d-652d-467c-96ab-dc751f0ad789",
   "metadata": {},
   "outputs": [],
   "source": [
    "import json\n",
    "import os\n",
    "import random\n",
    "from datetime import datetime, timedelta\n",
    "\n",
    "import joblib\n",
    "import matplotlib.pyplot as plt\n",
    "import numpy as np\n",
    "import pandas as pd\n",
    "import seaborn as sns\n",
    "import xgboost as xgb\n",
    "from sklearn.metrics import confusion_matrix, mean_squared_error\n",
    "from sklearn.model_selection import GridSearchCV, TimeSeriesSplit, train_test_split\n",
    "from sklearn.preprocessing import LabelBinarizer\n",
    "from sklearn.utils.class_weight import compute_class_weight\n",
    "\n",
    "pd.options.mode.chained_assignment = None"
   ]
  },
  {
   "cell_type": "markdown",
   "id": "edf14037-6f6a-4083-b5b9-8b4a76bcbdc8",
   "metadata": {},
   "source": [
    "# load data"
   ]
  },
  {
   "cell_type": "code",
   "execution_count": 2,
   "id": "f7d2f9e3-c6b2-404f-8927-924bf7bf7771",
   "metadata": {},
   "outputs": [],
   "source": [
    "x_train = pd.read_parquet(\"../data/selected_features_regression/x_train/data.parquet\")\n",
    "x_cv = pd.read_parquet(\"../data/selected_features_regression/x_cv/data.parquet\")\n",
    "x_test = pd.read_parquet(\"../data/selected_features_regression/x_test/data.parquet\")\n",
    "\n",
    "y_train = pd.read_parquet(\"../data/selected_features_regression/y_train/data.parquet\")[\n",
    "    \"tenure\"\n",
    "]\n",
    "y_cv = pd.read_parquet(\"../data/selected_features_regression/y_cv/data.parquet\")[\n",
    "    \"tenure\"\n",
    "]\n",
    "y_test = pd.read_parquet(\"../data/selected_features_regression/y_test/data.parquet\")[\n",
    "    \"tenure\"\n",
    "]\n",
    "\n",
    "x_train = pd.concat([x_train, x_cv])\n",
    "y_train = pd.concat([y_train, y_cv])"
   ]
  },
  {
   "cell_type": "markdown",
   "id": "60f704df-9ba3-4199-9eb1-86b145f71ef7",
   "metadata": {},
   "source": [
    "# Time series split"
   ]
  },
  {
   "cell_type": "code",
   "execution_count": 3,
   "id": "36fbb2e3-fb48-49cb-b019-b81e810b4b70",
   "metadata": {},
   "outputs": [
    {
     "data": {
      "text/plain": [
       "Index(['TotalCharges', 'MonthlyCharges', 'Contract_0', 'Contract_1',\n",
       "       'InternetService_1', 'MultipleLines_1'],\n",
       "      dtype='object')"
      ]
     },
     "execution_count": 3,
     "metadata": {},
     "output_type": "execute_result"
    }
   ],
   "source": [
    "x_train.columns"
   ]
  },
  {
   "cell_type": "code",
   "execution_count": 4,
   "id": "6cc0a1f2-e079-49f2-9fa3-c50008d0bdc1",
   "metadata": {},
   "outputs": [
    {
     "data": {
      "text/plain": [
       "TimeSeriesSplit(max_train_size=None, n_splits=10)"
      ]
     },
     "execution_count": 4,
     "metadata": {},
     "output_type": "execute_result"
    }
   ],
   "source": [
    "tscv = TimeSeriesSplit(n_splits=10)\n",
    "tscv"
   ]
  },
  {
   "cell_type": "markdown",
   "id": "d9cf635e-5dba-4841-aeaf-fa632a91411a",
   "metadata": {},
   "source": [
    "# Training XgBoost model\n",
    "\n",
    "tune num_estimators first"
   ]
  },
  {
   "cell_type": "markdown",
   "id": "69b6d633-770b-4ae3-b2e9-576d692fe54f",
   "metadata": {},
   "source": [
    "## tuning num_estimators"
   ]
  },
  {
   "cell_type": "code",
   "execution_count": 7,
   "id": "2135024b-f2a4-4d3b-9682-8c9dcdc610e2",
   "metadata": {
    "scrolled": true,
    "tags": []
   },
   "outputs": [
    {
     "name": "stdout",
     "output_type": "stream",
     "text": [
      "num_estimators 15\n",
      "num_estimators 20\n",
      "num_estimators 30\n",
      "num_estimators 40\n",
      "num_estimators 50\n",
      "num_estimators 60\n",
      "num_estimators 70\n",
      "num_estimators 100\n",
      "num_estimators 150\n",
      "num_estimators 200\n",
      "num_estimators 250\n",
      "num_estimators 300\n",
      "num_estimators 400\n"
     ]
    }
   ],
   "source": [
    "num_estimators_list = [15, 20, 30, 40, 50, 60, 70, 100, 150, 200, 250, 300, 400]\n",
    "\n",
    "tscv_loss_dict = {}\n",
    "for ix, ne in enumerate(num_estimators_list):\n",
    "    print(f\"num_estimators {ne}\")\n",
    "\n",
    "    tscv_loss_list = []\n",
    "\n",
    "    for train_index, cv_index in tscv.split(x_train):\n",
    "\n",
    "        # get data for cv ready\n",
    "        x_train_req = x_train.iloc[train_index]\n",
    "        x_cv_req = x_train.iloc[cv_index]\n",
    "\n",
    "        y_train_req = y_train.iloc[train_index]\n",
    "        y_cv_req = y_train.iloc[cv_index]\n",
    "\n",
    "        # print(f\"len_train {len(train_index)}, len_cv {len(cv_index)}\")\n",
    "        clf = xgb.XGBRegressor(\n",
    "            objective=\"reg:squarederror\",\n",
    "            n_estimators=ne,\n",
    "            eval_metric=\"rmse\",\n",
    "            booster=\"gbtree\",\n",
    "        )\n",
    "        clf.fit(x_train_req, y_train_req)\n",
    "\n",
    "        # get log los train\n",
    "        y_pred_train_mse = clf.predict(x_train_req)\n",
    "        mse_train = mean_squared_error(y_train_req, y_pred_train_mse)\n",
    "\n",
    "        # get log los cv set\n",
    "        y_pred_val_mse = clf.predict(x_cv_req)\n",
    "        mse_cv = mean_squared_error(y_cv_req, y_pred_val_mse)\n",
    "\n",
    "        tscv_loss_list.append({\"mse_train\": mse_train, \"mse_cv\": mse_cv})\n",
    "\n",
    "    tscv_loss_dict[ix] = tscv_loss_list"
   ]
  },
  {
   "cell_type": "code",
   "execution_count": 8,
   "id": "edd0678d-8751-463f-9a9b-39321f1a01d5",
   "metadata": {},
   "outputs": [
    {
     "data": {
      "text/html": [
       "<div>\n",
       "<style scoped>\n",
       "    .dataframe tbody tr th:only-of-type {\n",
       "        vertical-align: middle;\n",
       "    }\n",
       "\n",
       "    .dataframe tbody tr th {\n",
       "        vertical-align: top;\n",
       "    }\n",
       "\n",
       "    .dataframe thead th {\n",
       "        text-align: right;\n",
       "    }\n",
       "</style>\n",
       "<table border=\"1\" class=\"dataframe\">\n",
       "  <thead>\n",
       "    <tr style=\"text-align: right;\">\n",
       "      <th></th>\n",
       "      <th>iteration</th>\n",
       "      <th>mse_train</th>\n",
       "      <th>mse_cv</th>\n",
       "      <th>num_estimators</th>\n",
       "    </tr>\n",
       "  </thead>\n",
       "  <tbody>\n",
       "    <tr>\n",
       "      <th>0</th>\n",
       "      <td>0</td>\n",
       "      <td>1.557396</td>\n",
       "      <td>5.779316</td>\n",
       "      <td>15</td>\n",
       "    </tr>\n",
       "    <tr>\n",
       "      <th>1</th>\n",
       "      <td>1</td>\n",
       "      <td>1.133663</td>\n",
       "      <td>5.396506</td>\n",
       "      <td>20</td>\n",
       "    </tr>\n",
       "    <tr>\n",
       "      <th>2</th>\n",
       "      <td>2</td>\n",
       "      <td>0.828780</td>\n",
       "      <td>5.153103</td>\n",
       "      <td>30</td>\n",
       "    </tr>\n",
       "    <tr>\n",
       "      <th>3</th>\n",
       "      <td>3</td>\n",
       "      <td>0.655749</td>\n",
       "      <td>5.041291</td>\n",
       "      <td>40</td>\n",
       "    </tr>\n",
       "    <tr>\n",
       "      <th>4</th>\n",
       "      <td>4</td>\n",
       "      <td>0.543240</td>\n",
       "      <td>4.995203</td>\n",
       "      <td>50</td>\n",
       "    </tr>\n",
       "    <tr>\n",
       "      <th>5</th>\n",
       "      <td>5</td>\n",
       "      <td>0.459428</td>\n",
       "      <td>4.963162</td>\n",
       "      <td>60</td>\n",
       "    </tr>\n",
       "    <tr>\n",
       "      <th>6</th>\n",
       "      <td>6</td>\n",
       "      <td>0.394289</td>\n",
       "      <td>4.945192</td>\n",
       "      <td>70</td>\n",
       "    </tr>\n",
       "    <tr>\n",
       "      <th>7</th>\n",
       "      <td>7</td>\n",
       "      <td>0.267401</td>\n",
       "      <td>4.929558</td>\n",
       "      <td>100</td>\n",
       "    </tr>\n",
       "    <tr>\n",
       "      <th>8</th>\n",
       "      <td>8</td>\n",
       "      <td>0.159773</td>\n",
       "      <td>4.921832</td>\n",
       "      <td>150</td>\n",
       "    </tr>\n",
       "    <tr>\n",
       "      <th>9</th>\n",
       "      <td>9</td>\n",
       "      <td>0.103521</td>\n",
       "      <td>4.929719</td>\n",
       "      <td>200</td>\n",
       "    </tr>\n",
       "    <tr>\n",
       "      <th>10</th>\n",
       "      <td>10</td>\n",
       "      <td>0.071465</td>\n",
       "      <td>4.937044</td>\n",
       "      <td>250</td>\n",
       "    </tr>\n",
       "    <tr>\n",
       "      <th>11</th>\n",
       "      <td>11</td>\n",
       "      <td>0.049796</td>\n",
       "      <td>4.943338</td>\n",
       "      <td>300</td>\n",
       "    </tr>\n",
       "    <tr>\n",
       "      <th>12</th>\n",
       "      <td>12</td>\n",
       "      <td>0.026623</td>\n",
       "      <td>4.955577</td>\n",
       "      <td>400</td>\n",
       "    </tr>\n",
       "  </tbody>\n",
       "</table>\n",
       "</div>"
      ],
      "text/plain": [
       "    iteration  mse_train    mse_cv  num_estimators\n",
       "0           0   1.557396  5.779316              15\n",
       "1           1   1.133663  5.396506              20\n",
       "2           2   0.828780  5.153103              30\n",
       "3           3   0.655749  5.041291              40\n",
       "4           4   0.543240  4.995203              50\n",
       "5           5   0.459428  4.963162              60\n",
       "6           6   0.394289  4.945192              70\n",
       "7           7   0.267401  4.929558             100\n",
       "8           8   0.159773  4.921832             150\n",
       "9           9   0.103521  4.929719             200\n",
       "10         10   0.071465  4.937044             250\n",
       "11         11   0.049796  4.943338             300\n",
       "12         12   0.026623  4.955577             400"
      ]
     },
     "execution_count": 8,
     "metadata": {},
     "output_type": "execute_result"
    }
   ],
   "source": [
    "df_tscv = pd.DataFrame(tscv_loss_dict.items()).rename(\n",
    "    columns={0: \"iteration\", 1: \"losses\"}\n",
    ")\n",
    "\n",
    "df_tscv[\"mse_train\"] = df_tscv[\"losses\"].apply(\n",
    "    lambda x: np.mean([i[\"mse_train\"] for i in x])\n",
    ")\n",
    "df_tscv[\"mse_cv\"] = df_tscv[\"losses\"].apply(lambda x: np.mean([i[\"mse_cv\"] for i in x]))\n",
    "\n",
    "\n",
    "df_tscv[\"num_estimators\"] = num_estimators_list\n",
    "df_tscv = df_tscv.drop(columns=[\"losses\"])\n",
    "df_tscv"
   ]
  },
  {
   "cell_type": "code",
   "execution_count": 9,
   "id": "f8e9de80-5960-4d83-b4b4-ac33b9bbaca9",
   "metadata": {},
   "outputs": [
    {
     "data": {
      "image/png": "[encoded data removed]",
      "text/plain": [
       "<Figure size 700x600 with 1 Axes>"
      ]
     },
     "metadata": {
      "needs_background": "light"
     },
     "output_type": "display_data"
    }
   ],
   "source": [
    "plt.figure(figsize=[7, 6], dpi=100)\n",
    "sns.lineplot(y=\"mse_train\", x=\"num_estimators\", data=df_tscv)\n",
    "sns.lineplot(y=\"mse_cv\", x=\"num_estimators\", data=df_tscv)\n",
    "plt.grid()"
   ]
  },
  {
   "cell_type": "markdown",
   "id": "f67eaeb1-f853-4a9c-82fe-adeba44e18d6",
   "metadata": {},
   "source": [
    "Using `n_estimators = 250` as best param"
   ]
  },
  {
   "cell_type": "markdown",
   "id": "5522115f-a923-445b-bc17-9b1e9ab1c9a8",
   "metadata": {},
   "source": [
    "## re-train with best num_estimators"
   ]
  },
  {
   "cell_type": "code",
   "execution_count": 10,
   "id": "e8e9485f-9873-4933-a673-708e49c20007",
   "metadata": {},
   "outputs": [],
   "source": [
    "x_train = pd.read_parquet(\"../data/selected_features_regression/x_train/data.parquet\")\n",
    "x_cv = pd.read_parquet(\"../data/selected_features_regression/x_cv/data.parquet\")\n",
    "x_test = pd.read_parquet(\"../data/selected_features_regression/x_test/data.parquet\")\n",
    "\n",
    "y_train = pd.read_parquet(\"../data/selected_features_regression/y_train/data.parquet\")[\n",
    "    \"tenure\"\n",
    "]\n",
    "y_cv = pd.read_parquet(\"../data/selected_features_regression/y_cv/data.parquet\")[\n",
    "    \"tenure\"\n",
    "]\n",
    "y_test = pd.read_parquet(\"../data/selected_features_regression/y_test/data.parquet\")[\n",
    "    \"tenure\"\n",
    "]\n",
    "\n",
    "x_train = pd.concat([x_train, x_cv])\n",
    "y_train = pd.concat([y_train, y_cv])"
   ]
  },
  {
   "cell_type": "code",
   "execution_count": 11,
   "id": "ec2911fd-cace-4b8b-b95a-3667e7bd0912",
   "metadata": {},
   "outputs": [],
   "source": [
    "clf = xgb.XGBRegressor(\n",
    "    objective=\"reg:squarederror\",\n",
    "    n_estimators=250,\n",
    "    eval_metric=\"rmse\",\n",
    "    booster=\"gbtree\",\n",
    ")\n",
    "clf.fit(x_train, y_train)\n",
    "\n",
    "y_pred_train = clf.predict(x_train)\n",
    "y_pred_test = clf.predict(x_test)"
   ]
  },
  {
   "cell_type": "markdown",
   "id": "47c3459b-3993-451e-b6d5-9d6d792adb7f",
   "metadata": {},
   "source": [
    "# Fine tuning Random Forest Model"
   ]
  },
  {
   "cell_type": "code",
   "execution_count": 13,
   "id": "e7be0657-80cf-4a13-927e-4d3eab9a11ef",
   "metadata": {},
   "outputs": [
    {
     "name": "stdout",
     "output_type": "stream",
     "text": [
      "CPU times: user 3h 20min 7s, sys: 3min 6s, total: 3h 23min 14s\n",
      "Wall time: 17min 23s\n"
     ]
    },
    {
     "data": {
      "text/plain": [
       "GridSearchCV(estimator=XGBRegressor(base_score=None, booster='gbtree',\n",
       "                                    callbacks=None, colsample_bylevel=None,\n",
       "                                    colsample_bynode=None,\n",
       "                                    colsample_bytree=None,\n",
       "                                    early_stopping_rounds=None,\n",
       "                                    enable_categorical=False,\n",
       "                                    eval_metric='logloss', gamma=None,\n",
       "                                    gpu_id=None, grow_policy=None,\n",
       "                                    importance_type=None,\n",
       "                                    interaction_constraints=None,\n",
       "                                    learning_rate=None, max_bin=None,\n",
       "                                    max...\n",
       "                                    min_child_weight=None, missing=nan,\n",
       "                                    monotone_constraints=None, n_estimators=250,\n",
       "                                    n_jobs=None, num_parallel_tree=None,\n",
       "                                    predictor=None, random_state=None,\n",
       "                                    reg_alpha=None, reg_lambda=None, ...),\n",
       "             param_grid={'colsample_bytree': [0.2, 0.5, 0.9, 1],\n",
       "                         'learning_rate': [0.01, 0.1, 0.25, 0.3],\n",
       "                         'max_depth': [2, 3, 4],\n",
       "                         'reg_alpha': [0.001, 0.01, 0.1, 1],\n",
       "                         'reg_lambda': [0.001, 0.01, 0.1, 1]},\n",
       "             scoring='neg_mean_squared_error')"
      ]
     },
     "execution_count": 13,
     "metadata": {},
     "output_type": "execute_result"
    }
   ],
   "source": [
    "%%time\n",
    "\n",
    "# using best n_estimators got from training\n",
    "\n",
    "\n",
    "clf = xgb.XGBRegressor(\n",
    "    objective=\"reg:squarederror\",\n",
    "    n_estimators=250,\n",
    "    eval_metric=\"logloss\",\n",
    "    booster=\"gbtree\",\n",
    ")\n",
    "\n",
    "\n",
    "param_grid = {\n",
    "    \"colsample_bytree\": [0.2, 0.5, 0.9, 1],\n",
    "    \"learning_rate\": [0.01, 0.1, 0.25, 0.3],\n",
    "    \"max_depth\": [2, 3, 4],\n",
    "    \"reg_alpha\": [1e-3, 1e-2, 0.1, 1],\n",
    "    \"reg_lambda\": [1e-3, 1e-2, 0.1, 1]\n",
    "    # \"subsample\": [0.2, 0.5, 0.8, 0.9, 1],\n",
    "}\n",
    "\n",
    "\n",
    "grid_search_clf = GridSearchCV(\n",
    "    estimator=clf,\n",
    "    param_grid=param_grid,\n",
    "    cv=None,\n",
    "    refit=True,\n",
    "    scoring=\"neg_mean_squared_error\",\n",
    ")\n",
    "grid_search_clf.fit(x_train, y_train)"
   ]
  },
  {
   "cell_type": "code",
   "execution_count": 15,
   "id": "e75587c6-8bdd-413f-8f4e-13b76e302475",
   "metadata": {},
   "outputs": [
    {
     "data": {
      "text/plain": [
       "{'colsample_bytree': 1,\n",
       " 'learning_rate': 0.1,\n",
       " 'max_depth': 4,\n",
       " 'reg_alpha': 1,\n",
       " 'reg_lambda': 0.1}"
      ]
     },
     "execution_count": 15,
     "metadata": {},
     "output_type": "execute_result"
    }
   ],
   "source": [
    "grid_search_clf.best_params_"
   ]
  },
  {
   "cell_type": "code",
   "execution_count": 16,
   "id": "e1b29030-cc8c-488a-84e0-9c9216bdc1eb",
   "metadata": {},
   "outputs": [],
   "source": [
    "y_pred_train = grid_search_clf.predict(x_train)\n",
    "y_pred_test = grid_search_clf.predict(x_test)"
   ]
  },
  {
   "cell_type": "markdown",
   "id": "3cf62b94-c719-4ae1-8b9e-ed784a403346",
   "metadata": {},
   "source": [
    "## Check mse"
   ]
  },
  {
   "cell_type": "code",
   "execution_count": 17,
   "id": "e76feda6-0a65-4878-bfd6-dd5b70a387e3",
   "metadata": {},
   "outputs": [
    {
     "name": "stdout",
     "output_type": "stream",
     "text": [
      "mse train 1.155758624430505\n",
      "mse test 5.208760787799311\n"
     ]
    }
   ],
   "source": [
    "mean_squared_error_train = mean_squared_error(y_train, y_pred_train)\n",
    "mean_squared_error_test = mean_squared_error(y_test, y_pred_test)\n",
    "\n",
    "print(f\"mse train {mean_squared_error_train}\")\n",
    "print(f\"mse test {mean_squared_error_test}\")"
   ]
  },
  {
   "cell_type": "markdown",
   "id": "78edf5f7-e57a-4ca9-bdac-07c3a464ea0e",
   "metadata": {},
   "source": [
    "# Save model"
   ]
  },
  {
   "cell_type": "code",
   "execution_count": 18,
   "id": "e063ef45-0c42-4034-8443-5e27c24029a7",
   "metadata": {},
   "outputs": [],
   "source": [
    "os.makedirs(\"../data/models/reg/xgboost/\", exist_ok=True)"
   ]
  },
  {
   "cell_type": "code",
   "execution_count": 19,
   "id": "f9c40199-3068-48e2-8da7-4448a55eebc3",
   "metadata": {},
   "outputs": [
    {
     "data": {
      "text/plain": [
       "['../data/models/reg/xgboost/xgb_model.pkl']"
      ]
     },
     "execution_count": 19,
     "metadata": {},
     "output_type": "execute_result"
    }
   ],
   "source": [
    "joblib.dump(grid_search_clf.best_estimator_, \"../data/models/reg/xgboost/xgb_model.pkl\")"
   ]
  }
 ],
 "metadata": {
  "kernelspec": {
   "display_name": "Python 3",
   "language": "python",
   "name": "python3"
  },
  "language_info": {
   "codemirror_mode": {
    "name": "ipython",
    "version": 3
   },
   "file_extension": ".py",
   "mimetype": "text/x-python",
   "name": "python",
   "nbconvert_exporter": "python",
   "pygments_lexer": "ipython3",
   "version": "3.8.5"
  },
  "toc-autonumbering": true
 },
 "nbformat": 4,
 "nbformat_minor": 5
}
